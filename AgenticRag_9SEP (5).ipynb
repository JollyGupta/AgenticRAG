{
  "cells": [
    {
      "cell_type": "code",
      "execution_count": null,
      "metadata": {
        "id": "-_3uK-w3a8k4"
      },
      "outputs": [],
      "source": [
        "#Step-1: Install the packages\n",
        "!pip install langchain langchain-groq langchain-community"
      ]
    },
    {
      "cell_type": "code",
      "execution_count": 81,
      "metadata": {
        "colab": {
          "base_uri": "https://localhost:8080/"
        },
        "id": "bjybuEcihfNC",
        "outputId": "6b8f0241-1387-47e0-e5bd-603d44c0c578"
      },
      "outputs": [
        {
          "output_type": "stream",
          "name": "stderr",
          "text": [
            "Device set to use cpu\n",
            "Both `max_new_tokens` (=256) and `max_length`(=50) seem to have been set. `max_new_tokens` will take precedence. Please refer to the documentation for more information. (https://huggingface.co/docs/transformers/main/en/main_classes/text_generation)\n"
          ]
        },
        {
          "output_type": "stream",
          "name": "stdout",
          "text": [
            "=== Prompt Sent to Model ===\n",
            "\n",
            "Answer the question using the context below.\n",
            "\n",
            "Context: Tesla's CEO is Elon Musk since 2008.\n",
            "Question: Who is the CEO of Tesla?\n",
            "\n",
            "\n",
            "=== Model Answer ===\n",
            "[{'generated_text': 'Elon Musk'}]\n",
            "Elon Musk\n"
          ]
        }
      ],
      "source": [
        "from transformers import pipeline\n",
        "\n",
        "# Load a small instruction-tuned model instead of GPT-2\n",
        "qa_pipeline = pipeline(\"text2text-generation\", model=\"google/flan-t5-small\")\n",
        "\n",
        "# Query + Retrieved doc\n",
        "query = \"Who is the CEO of Tesla?\"\n",
        "retrieved_doc = \"Tesla's CEO is Elon Musk since 2008.\"\n",
        "\n",
        "# Step 2: Construct prompt\n",
        "prompt = f\"\"\"\n",
        "Answer the question using the context below.\n",
        "\n",
        "Context: {retrieved_doc}\n",
        "Question: {query}\n",
        "\"\"\"\n",
        "\n",
        "# Step 3: Generate answer\n",
        "result = qa_pipeline(prompt, max_length=50)\n",
        "\n",
        "print(\"=== Prompt Sent to Model ===\")\n",
        "print(prompt)\n",
        "print(\"\\n=== Model Answer ===\")\n",
        "\n",
        "\n",
        "print(result)\n",
        "print(result[0][\"generated_text\"])\n"
      ]
    },
    {
      "cell_type": "code",
      "execution_count": null,
      "metadata": {
        "id": "jk56DInJIVNt"
      },
      "outputs": [],
      "source": [
        "!pip install gradio python-dotenv"
      ]
    },
    {
      "cell_type": "code",
      "execution_count": 1,
      "metadata": {
        "colab": {
          "base_uri": "https://localhost:8080/"
        },
        "id": "mXIwlt8PImYM",
        "outputId": "8c3aff96-9b94-4e82-aab1-8aaa2c5df2f0"
      },
      "outputs": [
        {
          "output_type": "stream",
          "name": "stdout",
          "text": [
            "GROQ_API_KEY not found! Please check your .env file or environment settings.\n"
          ]
        }
      ],
      "source": [
        "import os\n",
        "from dotenv import load_dotenv\n",
        "\n",
        "# Load from .env file (adjust path if needed)\n",
        "load_dotenv(dotenv_path=\"/content/.env.txt\")\n",
        "\n",
        "# Fetch the key\n",
        "groq_api_key = os.getenv(\"GROQ_API_KEY\")\n",
        "\n",
        "# Check if it exists\n",
        "if groq_api_key:\n",
        "    print(\"GROQ_API_KEY is loaded successfully!\")\n",
        "    #print(\"Length of key:\", len(groq_api_key))   # safer than printing full key\n",
        "    #print(\"First 6 chars:\", groq_api_key[:6])    # preview beginning only\n",
        "else:\n",
        "    print(\"GROQ_API_KEY not found! Please check your .env file or environment settings.\")"
      ]
    },
    {
      "cell_type": "code",
      "execution_count": 84,
      "metadata": {
        "colab": {
          "base_uri": "https://localhost:8080/"
        },
        "id": "ZpLXQu49clrP",
        "outputId": "35445d2e-a132-4431-94d5-68ac2c6e5d21"
      },
      "outputs": [
        {
          "output_type": "execute_result",
          "data": {
            "text/plain": [
              "ChatGroq(client=<groq.resources.chat.completions.Completions object at 0x7b972eda2930>, async_client=<groq.resources.chat.completions.AsyncCompletions object at 0x7b9717cbd550>, model_name='llama-3.3-70b-versatile', model_kwargs={}, groq_api_key=SecretStr('**********'), max_tokens=512)"
            ]
          },
          "metadata": {},
          "execution_count": 84
        }
      ],
      "source": [
        "#Step-2: Retrive LLM model using groq\n",
        "\n",
        "from langchain_groq import ChatGroq\n",
        "\n",
        "#import os\n",
        "#groq_api = os.getenv(\"GROQ_API_KEY\")  # get from env\n",
        "\n",
        "\n",
        "llm = ChatGroq(\n",
        "    api_key=groq_api_key,\n",
        "    model=\"llama-3.3-70b-versatile\",\n",
        "    temperature=0.7,\n",
        "    max_tokens=512\n",
        ")\n",
        "\n",
        "llm"
      ]
    },
    {
      "cell_type": "code",
      "execution_count": 112,
      "metadata": {
        "colab": {
          "base_uri": "https://localhost:8080/"
        },
        "id": "RsmcJKgIedjF",
        "outputId": "f96361be-ab63-4806-9b42-0610c806ab9e"
      },
      "outputs": [
        {
          "output_type": "stream",
          "name": "stdout",
          "text": [
            "Requirement already satisfied: pypdf in /usr/local/lib/python3.12/dist-packages (6.1.1)\n"
          ]
        }
      ],
      "source": [
        "!pip install pypdf"
      ]
    },
    {
      "cell_type": "code",
      "execution_count": 85,
      "metadata": {
        "colab": {
          "base_uri": "https://localhost:8080/"
        },
        "id": "yK2hHyCUeLg8",
        "outputId": "d54926aa-e656-4498-f902-921b98b83447"
      },
      "outputs": [
        {
          "output_type": "stream",
          "name": "stdout",
          "text": [
            "Requirement already satisfied: python-docx in /usr/local/lib/python3.12/dist-packages (1.2.0)\n",
            "Requirement already satisfied: lxml>=3.1.0 in /usr/local/lib/python3.12/dist-packages (from python-docx) (5.4.0)\n",
            "Requirement already satisfied: typing_extensions>=4.9.0 in /usr/local/lib/python3.12/dist-packages (from python-docx) (4.15.0)\n"
          ]
        }
      ],
      "source": [
        "!pip install python-docx"
      ]
    },
    {
      "cell_type": "code",
      "execution_count": 86,
      "metadata": {
        "id": "0mNAggrLcl3M"
      },
      "outputs": [],
      "source": [
        "#Step-3: Load the pdf\n",
        "\n",
        "from langchain.document_loaders import PyPDFLoader\n",
        "from docx import Document\n",
        "pdf_path = \"/content/introduction-to-nutrition.pdf\"\n",
        "loader = PyPDFLoader(pdf_path)\n",
        "documents = loader.load()"
      ]
    },
    {
      "cell_type": "code",
      "execution_count": 87,
      "metadata": {
        "colab": {
          "base_uri": "https://localhost:8080/"
        },
        "id": "Swbdiqqlcl8L",
        "outputId": "3d9160a1-8c50-44f7-84fd-6fb10025395f"
      },
      "outputs": [
        {
          "output_type": "stream",
          "name": "stdout",
          "text": [
            "[Document(metadata={'producer': 'Microsoft® PowerPoint® 2016', 'creator': 'Microsoft® PowerPoint® 2016', 'creationdate': '2017-07-18T14:34:22+05:30', 'title': 'Aucun titre de diapositive', 'author': 'apave sud', 'moddate': '2017-07-18T14:34:22+05:30', 'source': '/content/introduction-to-nutrition.pdf', 'total_pages': 77, 'page': 0, 'page_label': '1'}, page_content='EU-India Capacity Building Initiative for Trade Development (CITD) – Lot 1 SPS/TBT/Customs\\nEU-India Capacity Building Initiative \\nfor Trade Development (CITD)\\nIntroduction to Nutrition\\nTrain the Trainers \\nin Food Safety and Nutrition'), Document(metadata={'producer': 'Microsoft® PowerPoint® 2016', 'creator': 'Microsoft® PowerPoint® 2016', 'creationdate': '2017-07-18T14:34:22+05:30', 'title': 'Aucun titre de diapositive', 'author': 'apave sud', 'moddate': '2017-07-18T14:34:22+05:30', 'source': '/content/introduction-to-nutrition.pdf', 'total_pages': 77, 'page': 1, 'page_label': '2'}, page_content='EU-India Capacity Building Initiative for Trade Development (CITD) – Lot 1 SPS/TBT/Customs\\nCONTENT\\n2. Nutrients and their functions\\n1. Food and its Functions\\n3. RDA and Energy requirements for \\ndifferent activities\\n4. Energy value of Foods'), Document(metadata={'producer': 'Microsoft® PowerPoint® 2016', 'creator': 'Microsoft® PowerPoint® 2016', 'creationdate': '2017-07-18T14:34:22+05:30', 'title': 'Aucun titre de diapositive', 'author': 'apave sud', 'moddate': '2017-07-18T14:34:22+05:30', 'source': '/content/introduction-to-nutrition.pdf', 'total_pages': 77, 'page': 2, 'page_label': '3'}, page_content='EU-India Capacity Building Initiative for Trade Development (CITD) – Lot 1 SPS/TBT/Customs\\nFood \\nand \\nits Functions\\nIllustration : \\nPhoto, drawing, \\nclipart…'), Document(metadata={'producer': 'Microsoft® PowerPoint® 2016', 'creator': 'Microsoft® PowerPoint® 2016', 'creationdate': '2017-07-18T14:34:22+05:30', 'title': 'Aucun titre de diapositive', 'author': 'apave sud', 'moddate': '2017-07-18T14:34:22+05:30', 'source': '/content/introduction-to-nutrition.pdf', 'total_pages': 77, 'page': 3, 'page_label': '4'}, page_content='EU-India Capacity Building Initiative for Trade Development (CITD) – Lot 1 SPS/TBT/Customs\\nWhat is food?\\n• Any substance which nourishes the body and is fit to eat is\\ncalled food.\\n• Food is essential for human life because it is the source of\\nenergy and nutrients.\\n• Our body is made up of the foods we eat. Food contains\\nchemical components similar to those that make up the\\nbody.\\n• These chemical components of food are called nutrients.'), Document(metadata={'producer': 'Microsoft® PowerPoint® 2016', 'creator': 'Microsoft® PowerPoint® 2016', 'creationdate': '2017-07-18T14:34:22+05:30', 'title': 'Aucun titre de diapositive', 'author': 'apave sud', 'moddate': '2017-07-18T14:34:22+05:30', 'source': '/content/introduction-to-nutrition.pdf', 'total_pages': 77, 'page': 4, 'page_label': '5'}, page_content='EU-India Capacity Building Initiative for Trade Development (CITD) – Lot 1 SPS/TBT/Customs\\n• Foods supply the body with specific nutrients.\\n• These nutrients are necessary for our:\\n- Physical growth and development\\n- Repair and maintenance of normal body functions.\\n- Protection against infections\\n• Nutritious food is, thus needed to sustain life and\\nphysical activity.\\nWhy do we need food?\\nNo single food contains all nutrients. Therefore, a \\ncombination of varied foods is needed.'), Document(metadata={'producer': 'Microsoft® PowerPoint® 2016', 'creator': 'Microsoft® PowerPoint® 2016', 'creationdate': '2017-07-18T14:34:22+05:30', 'title': 'Aucun titre de diapositive', 'author': 'apave sud', 'moddate': '2017-07-18T14:34:22+05:30', 'source': '/content/introduction-to-nutrition.pdf', 'total_pages': 77, 'page': 5, 'page_label': '6'}, page_content='EU-India Capacity Building Initiative for Trade Development (CITD) – Lot 1 SPS/TBT/Customs\\n• Nutrition is the science of food and its relation to health.\\n• It deals with food and is a basic prerequisite to sustain \\nlife.\\n• The way our body makes use of these nutrients affects \\nour health and well being.\\nWhat is Nutrition?\\nVariety in food is not only the spice of life but also \\nthe essence of nutrition and health'), Document(metadata={'producer': 'Microsoft® PowerPoint® 2016', 'creator': 'Microsoft® PowerPoint® 2016', 'creationdate': '2017-07-18T14:34:22+05:30', 'title': 'Aucun titre de diapositive', 'author': 'apave sud', 'moddate': '2017-07-18T14:34:22+05:30', 'source': '/content/introduction-to-nutrition.pdf', 'total_pages': 77, 'page': 6, 'page_label': '7'}, page_content='EU-India Capacity Building Initiative for Trade Development (CITD) – Lot 1 SPS/TBT/Customs\\n• Our diet must provide all essential nutrients in the\\nrequired amounts.\\n• Requirements of essential nutrients vary with age, gender,\\nphysiological status and physical activity.\\n• Eating too little food during infancy, childhood,\\nadolescence, pregnancy etc. or too much food at any age\\ncan lead to harmful consequences.\\n• Therefore, an adequate diet, providing all nutrients, is\\nneeded throughout our lives.\\nWhy do we need nutritionally adequate food?\\nNutritious food can enhance your physical and mental potential.'), Document(metadata={'producer': 'Microsoft® PowerPoint® 2016', 'creator': 'Microsoft® PowerPoint® 2016', 'creationdate': '2017-07-18T14:34:22+05:30', 'title': 'Aucun titre de diapositive', 'author': 'apave sud', 'moddate': '2017-07-18T14:34:22+05:30', 'source': '/content/introduction-to-nutrition.pdf', 'total_pages': 77, 'page': 7, 'page_label': '8'}, page_content='EU-India Capacity Building Initiative for Trade Development (CITD) – Lot 1 SPS/TBT/Customs\\nFood and its Functions\\nFood performs the following functions: \\n1.  Physiological function\\n• Providing energy to carry out voluntary  work.\\n• Growth or body building. \\n• Repair or maintenance of the body cells.\\n• Regulation of body processes.\\n• Protective function, increasing one’s resistance to \\ninfection.\\n2. Psychological function\\n• Food satisfies our emotional need for love, attention and \\nsecurity.\\n3. Social function\\n• Food is an important part of festivals and social \\nfunctions.'), Document(metadata={'producer': 'Microsoft® PowerPoint® 2016', 'creator': 'Microsoft® PowerPoint® 2016', 'creationdate': '2017-07-18T14:34:22+05:30', 'title': 'Aucun titre de diapositive', 'author': 'apave sud', 'moddate': '2017-07-18T14:34:22+05:30', 'source': '/content/introduction-to-nutrition.pdf', 'total_pages': 77, 'page': 8, 'page_label': '9'}, page_content='EU-India Capacity Building Initiative for Trade Development (CITD) – Lot 1 SPS/TBT/Customs\\nNutrients \\nand \\ntheir \\nFunctions'), Document(metadata={'producer': 'Microsoft® PowerPoint® 2016', 'creator': 'Microsoft® PowerPoint® 2016', 'creationdate': '2017-07-18T14:34:22+05:30', 'title': 'Aucun titre de diapositive', 'author': 'apave sud', 'moddate': '2017-07-18T14:34:22+05:30', 'source': '/content/introduction-to-nutrition.pdf', 'total_pages': 77, 'page': 9, 'page_label': '10'}, page_content='EU-India Capacity Building Initiative for Trade Development (CITD) – Lot 1 SPS/TBT/Customs\\nWhat are Nutrients?\\n• The food you eat is a source of different nutrients.\\n• Nutrients are defined as the substances found in food\\nthat keep your body functioning.\\nYour body needs nutrients to…\\n• Fuel your energy.\\n• Help you grow.\\n• Repair itself.\\n• Protect us against infections\\n• Regulate basic body functions'), Document(metadata={'producer': 'Microsoft® PowerPoint® 2016', 'creator': 'Microsoft® PowerPoint® 2016', 'creationdate': '2017-07-18T14:34:22+05:30', 'title': 'Aucun titre de diapositive', 'author': 'apave sud', 'moddate': '2017-07-18T14:34:22+05:30', 'source': '/content/introduction-to-nutrition.pdf', 'total_pages': 77, 'page': 10, 'page_label': '11'}, page_content='EU-India Capacity Building Initiative for Trade Development (CITD) – Lot 1 SPS/TBT/Customs\\nThere are six groups of nutrients which are essential. They \\nare broadly classified as follows:-\\n• Carbohydrates\\n• Proteins\\n• Fats\\n• Vitamins\\n• Minerals and\\n• Water\\nNutrients'), Document(metadata={'producer': 'Microsoft® PowerPoint® 2016', 'creator': 'Microsoft® PowerPoint® 2016', 'creationdate': '2017-07-18T14:34:22+05:30', 'title': 'Aucun titre de diapositive', 'author': 'apave sud', 'moddate': '2017-07-18T14:34:22+05:30', 'source': '/content/introduction-to-nutrition.pdf', 'total_pages': 77, 'page': 11, 'page_label': '12'}, page_content='EU-India Capacity Building Initiative for Trade Development (CITD) – Lot 1 SPS/TBT/Customs\\nWhen food is eaten, it is digested in the body which\\nallows the absorption of energy and nutrients.\\nThere are two different types of nutrients:\\n• macronutrients\\n• micronutrients.\\nThere are three macronutrients that are required in \\nlarge amounts and are essential for good health. \\nThese are:\\n• Carbohydrate\\n• Protein\\n• Fat.\\nMacronutrients are measured in grams (g)\\nTypes of Nutrients'), Document(metadata={'producer': 'Microsoft® PowerPoint® 2016', 'creator': 'Microsoft® PowerPoint® 2016', 'creationdate': '2017-07-18T14:34:22+05:30', 'title': 'Aucun titre de diapositive', 'author': 'apave sud', 'moddate': '2017-07-18T14:34:22+05:30', 'source': '/content/introduction-to-nutrition.pdf', 'total_pages': 77, 'page': 12, 'page_label': '13'}, page_content='EU-India Capacity Building Initiative for Trade Development (CITD) – Lot 1 SPS/TBT/Customs\\nCarbohydrates\\nCarbohydrates are the body’s main source of energy\\nand also provide the body’s need for dietary fiber.\\nThey provide 4 kcals/g.\\nFood Sources:\\nCereals such as wheat, rice, millets (jowar, bajra, ragi\\netc.), pulses, fruits, roots and tubers; and sugar,\\njaggery, sweetmeats and preserves.\\nCarbohydrates are of two types:\\n•Sugars or Simple Carbohydrates\\n•Starches or Complex Carbohydrates'), Document(metadata={'producer': 'Microsoft® PowerPoint® 2016', 'creator': 'Microsoft® PowerPoint® 2016', 'creationdate': '2017-07-18T14:34:22+05:30', 'title': 'Aucun titre de diapositive', 'author': 'apave sud', 'moddate': '2017-07-18T14:34:22+05:30', 'source': '/content/introduction-to-nutrition.pdf', 'total_pages': 77, 'page': 13, 'page_label': '14'}, page_content='EU-India Capacity Building Initiative for Trade Development (CITD) – Lot 1 SPS/TBT/Customs\\nSimple Carbohydrates\\nCan you give some examples of \\nsources of sugar in the diet?\\n• Fruit and vegetables (fructose)\\n• Milk and dairy products (lactose)\\n• Honey\\n• Jam\\n• Fruit juice\\n• Table sugar (sucrose)\\n• Jaggery, khand (brown sugar)\\n• Sweets and chocolate\\n• Sweetmeats like Mithais, ladoos\\netc\\n• Glucon D (glucose)'), Document(metadata={'producer': 'Microsoft® PowerPoint® 2016', 'creator': 'Microsoft® PowerPoint® 2016', 'creationdate': '2017-07-18T14:34:22+05:30', 'title': 'Aucun titre de diapositive', 'author': 'apave sud', 'moddate': '2017-07-18T14:34:22+05:30', 'source': '/content/introduction-to-nutrition.pdf', 'total_pages': 77, 'page': 14, 'page_label': '15'}, page_content='EU-India Capacity Building Initiative for Trade Development (CITD) – Lot 1 SPS/TBT/Customs\\nComplex\\n Carbohydrates\\nStarchy carbohydrate\\nStarch is found in a variety of foods. It is made up of \\nmany sugar molecules.\\nCan you give some examples of sources of starch in \\nthe diet?\\n• Potatoes\\n• Bread\\n• Rice\\n• Roti/ Chapatti\\nCereal and cereal products are the main source of \\ncarbohydrate for Indians.'), Document(metadata={'producer': 'Microsoft® PowerPoint® 2016', 'creator': 'Microsoft® PowerPoint® 2016', 'creationdate': '2017-07-18T14:34:22+05:30', 'title': 'Aucun titre de diapositive', 'author': 'apave sud', 'moddate': '2017-07-18T14:34:22+05:30', 'source': '/content/introduction-to-nutrition.pdf', 'total_pages': 77, 'page': 15, 'page_label': '16'}, page_content='EU-India Capacity Building Initiative for Trade Development (CITD) – Lot 1 SPS/TBT/Customs\\nFood Sources: \\n\\uf0fcWhole grain chappatis, bhakris, rice,\\n\\uf0fcBreads, pasta and all cereal products,\\n\\uf0fcRoots, tubers and other vegetables,   \\nand legumes.\\nFunction in the Body:\\n•An excellent source of fuel (energy) \\nfor the body.\\n•Rich in vitamins, minerals and fiber.\\nStarches or Complex Carbohydrates'), Document(metadata={'producer': 'Microsoft® PowerPoint® 2016', 'creator': 'Microsoft® PowerPoint® 2016', 'creationdate': '2017-07-18T14:34:22+05:30', 'title': 'Aucun titre de diapositive', 'author': 'apave sud', 'moddate': '2017-07-18T14:34:22+05:30', 'source': '/content/introduction-to-nutrition.pdf', 'total_pages': 77, 'page': 16, 'page_label': '17'}, page_content='EU-India Capacity Building Initiative for Trade Development (CITD) – Lot 1 SPS/TBT/Customs\\nDietary fibre is the plant material that doesn’t\\nbreak down when food is digested. Hence\\ndoes not provide any calories. Many, but not\\nall, complex carbohydrates contain fiber.\\nFood Sources:\\nWhole grain cereals and pulses, bran,\\ngreen leafy vegetables, fruits and\\nvegetables with edible seeds and skin,\\nnuts and oilseeds.\\nFunction in the Body\\n\\uf0d8 Increases gastric motility and aids in\\ndigestion.\\n\\uf0d8May reduce the risk of developing some\\ndiseases like heart disease, diabetes and\\nobesity, and certain cancers.\\nFibre'), Document(metadata={'producer': 'Microsoft® PowerPoint® 2016', 'creator': 'Microsoft® PowerPoint® 2016', 'creationdate': '2017-07-18T14:34:22+05:30', 'title': 'Aucun titre de diapositive', 'author': 'apave sud', 'moddate': '2017-07-18T14:34:22+05:30', 'source': '/content/introduction-to-nutrition.pdf', 'total_pages': 77, 'page': 17, 'page_label': '18'}, page_content='EU-India Capacity Building Initiative for Trade Development (CITD) – Lot 1 SPS/TBT/Customs\\n• Carbohydrates are the main energy source for the\\nhuman brain.\\n• The body cannot function properly in its absence.\\n• The simple carbohydrates are high in calories and low in\\nnutritional value. They are present in high amounts in\\njunk foods or unhealthy foods.\\n• Complex carbohydrates may also contain dietary fibre\\nwhich cannot be digested in the human digestive tract.\\n• Sources are fruits and vegetables, whole grain cereals,\\nmillets, pulses and legumes.\\n• Diets rich in complex carbohydrates are healthier than\\nlow- fibre diets which are high in refined cereals such as\\nMaida, noodles etc.\\nFunctions of Carbohydrates'), Document(metadata={'producer': 'Microsoft® PowerPoint® 2016', 'creator': 'Microsoft® PowerPoint® 2016', 'creationdate': '2017-07-18T14:34:22+05:30', 'title': 'Aucun titre de diapositive', 'author': 'apave sud', 'moddate': '2017-07-18T14:34:22+05:30', 'source': '/content/introduction-to-nutrition.pdf', 'total_pages': 77, 'page': 18, 'page_label': '19'}, page_content='EU-India Capacity Building Initiative for Trade Development (CITD) – Lot 1 SPS/TBT/Customs\\nProteins\\nProtein is essential for growth and repair and \\nkeeping cells healthy.\\n• 1 gram of protein provides 4 kcal.\\nFood Sources\\nMilk and dairy products, meat, fish, eggs, \\npoultry, pulses and legumes, nuts and \\nseeds. (Breads, cereals and vegetables \\nalso contain small amounts of incomplete \\nprotein)'), Document(metadata={'producer': 'Microsoft® PowerPoint® 2016', 'creator': 'Microsoft® PowerPoint® 2016', 'creationdate': '2017-07-18T14:34:22+05:30', 'title': 'Aucun titre de diapositive', 'author': 'apave sud', 'moddate': '2017-07-18T14:34:22+05:30', 'source': '/content/introduction-to-nutrition.pdf', 'total_pages': 77, 'page': 19, 'page_label': '20'}, page_content='EU-India Capacity Building Initiative for Trade Development (CITD) – Lot 1 SPS/TBT/Customs\\nFunction in the Body\\n• Help to build, maintain, and repair body tissues.\\n• Regulates body functions\\n• Proteins are the major structural component of cells.\\n• Protein is broken down into amino acids, which are\\nbuilding blocks of protein.\\n• There are 22 different amino acids.\\n• The human body is capable of producing 13 of them. \\nThe other 9 called, “Essential Amino Acids” must be \\nsupplied by food sources.\\nProteins'), Document(metadata={'producer': 'Microsoft® PowerPoint® 2016', 'creator': 'Microsoft® PowerPoint® 2016', 'creationdate': '2017-07-18T14:34:22+05:30', 'title': 'Aucun titre de diapositive', 'author': 'apave sud', 'moddate': '2017-07-18T14:34:22+05:30', 'source': '/content/introduction-to-nutrition.pdf', 'total_pages': 77, 'page': 20, 'page_label': '21'}, page_content='EU-India Capacity Building Initiative for Trade Development (CITD) – Lot 1 SPS/TBT/Customs\\nTypes of proteins\\nComplete Proteins:\\n• Contain all 9 essential amino acids.  \\n• They are found in animal food sources.\\n• Milk, Egg, Poultry, fish etc are of high quality as they \\nprovide \\nall the essential amino acids in right proportions.\\nIncomplete Proteins:\\n• Lack one or more of the essential amino acids.\\n• They are found in plant food sources.\\n• Cereals lack some amino acids while pulses are lacking in\\nothers.\\n• The best way to provide the body complete proteins in a\\nvegetarian diet is to eat cereals and pulses together so\\nthat they supplement each other.'), Document(metadata={'producer': 'Microsoft® PowerPoint® 2016', 'creator': 'Microsoft® PowerPoint® 2016', 'creationdate': '2017-07-18T14:34:22+05:30', 'title': 'Aucun titre de diapositive', 'author': 'apave sud', 'moddate': '2017-07-18T14:34:22+05:30', 'source': '/content/introduction-to-nutrition.pdf', 'total_pages': 77, 'page': 21, 'page_label': '22'}, page_content='EU-India Capacity Building Initiative for Trade Development (CITD) – Lot 1 SPS/TBT/Customs\\nFats are the most concentrated source of energy providing 9\\nkcal/g\\nFood Sources:\\nButter, ghee, vegetable oils, salad dressings, nuts and oil\\nseeds, dairy products made with whole milk\\nor cream, and meats.\\nFat'), Document(metadata={'producer': 'Microsoft® PowerPoint® 2016', 'creator': 'Microsoft® PowerPoint® 2016', 'creationdate': '2017-07-18T14:34:22+05:30', 'title': 'Aucun titre de diapositive', 'author': 'apave sud', 'moddate': '2017-07-18T14:34:22+05:30', 'source': '/content/introduction-to-nutrition.pdf', 'total_pages': 77, 'page': 22, 'page_label': '23'}, page_content='EU-India Capacity Building Initiative for Trade Development (CITD) – Lot 1 SPS/TBT/Customs\\nStructure of fat\\nFat is made up of different types of fatty\\nacids and glycerol.\\nThe structure of the fatty acids determines:\\n• their effect on our health;\\n• their characteristics, e.g. melting point.\\nDepending on their chemical structure, fatty acids \\nare usually classified as:\\n• saturated  fatty acids;\\n• monounsaturated fatty acids;(MUFA) \\n• polyunsaturated fatty acids. (PUFA)\\nHigh intakes of saturated fat may raise blood \\ncholesterol and increase the risk of heart disease \\nand stroke.\\nA diet high in unsaturated fats is associated with a \\nlower level of blood cholesterol and reduces the risk \\nof heart disease.\\nStructure of Fat'), Document(metadata={'producer': 'Microsoft® PowerPoint® 2016', 'creator': 'Microsoft® PowerPoint® 2016', 'creationdate': '2017-07-18T14:34:22+05:30', 'title': 'Aucun titre de diapositive', 'author': 'apave sud', 'moddate': '2017-07-18T14:34:22+05:30', 'source': '/content/introduction-to-nutrition.pdf', 'total_pages': 77, 'page': 23, 'page_label': '24'}, page_content='EU-India Capacity Building Initiative for Trade Development (CITD) – Lot 1 SPS/TBT/Customs\\nFunctions of Fat\\n• Fat provides substances needed for growth and healthy skin.\\n• Enhance the taste and texture of food.\\n• Fats are needed for the absorption of fat- soluble vitamins\\nsuch as A, D, E and K.\\n• Twenty percent of your daily energy/calorie intake should\\ncome from fats/oils.\\n• Choose healthy options such as omega-3-rich foods like fish,\\nwalnuts and seed oils like groundnuts, gingelly/ til, mustard.\\n• Omega-3 aids in growth and development.\\n• Limit intake of saturated fats such as butter, ghee and\\nhydrogenated fats and cholesterol from red meat and full-fat\\ndairy.\\n• Not more than 10% of total calories from saturated fats and\\nat least 10% of total calories should come from PUFA.'), Document(metadata={'producer': 'Microsoft® PowerPoint® 2016', 'creator': 'Microsoft® PowerPoint® 2016', 'creationdate': '2017-07-18T14:34:22+05:30', 'title': 'Aucun titre de diapositive', 'author': 'apave sud', 'moddate': '2017-07-18T14:34:22+05:30', 'source': '/content/introduction-to-nutrition.pdf', 'total_pages': 77, 'page': 24, 'page_label': '25'}, page_content='EU-India Capacity Building Initiative for Trade Development (CITD) – Lot 1 SPS/TBT/Customs\\nThere are two types of \\nmicronutrients:\\n• vitamins\\n• minerals.\\n•Vitamins and minerals are \\nneeded in much smaller \\namounts than \\nmacronutrients.  \\n•Their amounts are measured \\nin milligrams (mg) and \\nmicrograms (μg). \\n(1mg = 0.001g) \\n(1μg = 0.001mg).\\nMicronutrients'), Document(metadata={'producer': 'Microsoft® PowerPoint® 2016', 'creator': 'Microsoft® PowerPoint® 2016', 'creationdate': '2017-07-18T14:34:22+05:30', 'title': 'Aucun titre de diapositive', 'author': 'apave sud', 'moddate': '2017-07-18T14:34:22+05:30', 'source': '/content/introduction-to-nutrition.pdf', 'total_pages': 77, 'page': 25, 'page_label': '26'}, page_content='EU-India Capacity Building Initiative for Trade Development (CITD) – Lot 1 SPS/TBT/Customs\\nVitamins\\n\\uf0a7 Vitamins are chemical compounds required by the body in small\\namounts.\\n\\uf0a7 They must be present in the diet as they cannot be synthesized in\\nthe body.\\n\\uf0a7 Vitamins are essential for numerous body processes and\\nmaintenance of structure of skin, bones, nerves, eye, brain, blood\\nand mucous membrane.\\n\\uf0a7 They are either water- soluble or fat- soluble.\\n\\uf0a7 Fat –soluble vitamins can be stored in the body\\nwhile water soluble vitamins are not and get excreted\\nin urine.\\n\\uf0a7 Vitamins B- complex and C are easily destroyed\\nby heat, air or during cooking.\\n\\uf0a7 There are 13 different vitamins known to be required each day\\nfor good health.'), Document(metadata={'producer': 'Microsoft® PowerPoint® 2016', 'creator': 'Microsoft® PowerPoint® 2016', 'creationdate': '2017-07-18T14:34:22+05:30', 'title': 'Aucun titre de diapositive', 'author': 'apave sud', 'moddate': '2017-07-18T14:34:22+05:30', 'source': '/content/introduction-to-nutrition.pdf', 'total_pages': 77, 'page': 26, 'page_label': '27'}, page_content='EU-India Capacity Building Initiative for Trade Development (CITD) – Lot 1 SPS/TBT/Customs\\nVitamin A\\nVitamin A is needed for:\\n• dim light vision;\\n• healthy skin and eyes;\\n• resistance to infection.\\nSources\\n•Vitamin A is found pre-formed \\nin liver and whole milk.\\n• It can also be produced from \\nbeta-carotene provided by dark \\ngreen leafy vegetables, \\n•carrots and orange coloured \\nfruits such as papaya.\\nFat soluble vitamins'), Document(metadata={'producer': 'Microsoft® PowerPoint® 2016', 'creator': 'Microsoft® PowerPoint® 2016', 'creationdate': '2017-07-18T14:34:22+05:30', 'title': 'Aucun titre de diapositive', 'author': 'apave sud', 'moddate': '2017-07-18T14:34:22+05:30', 'source': '/content/introduction-to-nutrition.pdf', 'total_pages': 77, 'page': 27, 'page_label': '28'}, page_content='EU-India Capacity Building Initiative for Trade Development (CITD) – Lot 1 SPS/TBT/Customs\\nVitamin D\\nFunctions\\n• Vitamin D is needed for the\\nabsorption of calcium from foods to\\nkeep bones and teeth strong and\\nhealthy.\\n• Helps your body use calcium and\\nphosphorus, two minerals you need\\nfor healthy bones.\\nSources\\nWe get most of our vitamin D via the\\naction of UV rays from the sunlight on\\nskin.\\nVitamin D is also provided in small\\namounts by the diet from oily fish, meat,\\negg yolk, fortified milk, and\\nmargarine/spreads.'), Document(metadata={'producer': 'Microsoft® PowerPoint® 2016', 'creator': 'Microsoft® PowerPoint® 2016', 'creationdate': '2017-07-18T14:34:22+05:30', 'title': 'Aucun titre de diapositive', 'author': 'apave sud', 'moddate': '2017-07-18T14:34:22+05:30', 'source': '/content/introduction-to-nutrition.pdf', 'total_pages': 77, 'page': 28, 'page_label': '29'}, page_content='EU-India Capacity Building Initiative for Trade Development (CITD) – Lot 1 SPS/TBT/Customs\\nVitamin E\\nFunctions\\n• Supports the function of all your\\ntissues by acting as an antioxidant.\\n• It prevents cellular damage, which\\nwould otherwise cripple cell function\\nand lead to cell death.\\n• It is necessary for normal\\nreproduction.\\nFood Sources:\\nWhole-grain breads and cereals; dark\\ngreen, leafy vegetables; dry beans\\nand peas; nuts and seeds; wheat\\ngerm, vegetable oils; liver.'), Document(metadata={'producer': 'Microsoft® PowerPoint® 2016', 'creator': 'Microsoft® PowerPoint® 2016', 'creationdate': '2017-07-18T14:34:22+05:30', 'title': 'Aucun titre de diapositive', 'author': 'apave sud', 'moddate': '2017-07-18T14:34:22+05:30', 'source': '/content/introduction-to-nutrition.pdf', 'total_pages': 77, 'page': 29, 'page_label': '30'}, page_content='EU-India Capacity Building Initiative for Trade Development (CITD) – Lot 1 SPS/TBT/Customs\\nVitamin K\\n• Function in the Body\\n– Helps blood to clot.\\n• Food Sources\\n– Dark green and leafy vegetables (such as spinach, \\nfenugreek leaves, lettuce, cauliflower and cabbage). \\nCheese, egg yolk and liver\\n– Bacterial synthesis in the intestines'), Document(metadata={'producer': 'Microsoft® PowerPoint® 2016', 'creator': 'Microsoft® PowerPoint® 2016', 'creationdate': '2017-07-18T14:34:22+05:30', 'title': 'Aucun titre de diapositive', 'author': 'apave sud', 'moddate': '2017-07-18T14:34:22+05:30', 'source': '/content/introduction-to-nutrition.pdf', 'total_pages': 77, 'page': 30, 'page_label': '31'}, page_content='EU-India Capacity Building Initiative for Trade Development (CITD) – Lot 1 SPS/TBT/Customs\\nWater Soluble Vitamins\\n•.\\nVitamin C Functions-\\nVitamin C - Vitamin C is necessary for the\\nsynthesis of collagen, which provides\\nstructure to blood vessels, bone and\\nligaments.\\nB-complex vitamins - are B-1, B-2,B-3,\\nB-6,B-12, biotin, folic acid, and\\npantothenic acid.\\n• They work in combination to ensure that\\nyour cells can use the energy they need\\nto function, by helping you break down\\ncarbohydrates and fats.\\n• B-complex vitamins also helps\\nmetabolize protein into amino acids.'), Document(metadata={'producer': 'Microsoft® PowerPoint® 2016', 'creator': 'Microsoft® PowerPoint® 2016', 'creationdate': '2017-07-18T14:34:22+05:30', 'title': 'Aucun titre de diapositive', 'author': 'apave sud', 'moddate': '2017-07-18T14:34:22+05:30', 'source': '/content/introduction-to-nutrition.pdf', 'total_pages': 77, 'page': 31, 'page_label': '32'}, page_content='EU-India Capacity Building Initiative for Trade Development (CITD) – Lot 1 SPS/TBT/Customs\\nWater soluble vitamins\\nThe B vitamins\\nThere are many different B \\nvitamins and each has a specific \\nfunction in the body.\\nThese include:\\n• vitamin B1 (Thiamin);\\n• vitamin B2 (Riboflavin);\\n• vitamin B3 (Niacin);\\n• vitamin B6;\\n• vitamin B12;\\n• folate/folic acid.'), Document(metadata={'producer': 'Microsoft® PowerPoint® 2016', 'creator': 'Microsoft® PowerPoint® 2016', 'creationdate': '2017-07-18T14:34:22+05:30', 'title': 'Aucun titre de diapositive', 'author': 'apave sud', 'moddate': '2017-07-18T14:34:22+05:30', 'source': '/content/introduction-to-nutrition.pdf', 'total_pages': 77, 'page': 32, 'page_label': '33'}, page_content='EU-India Capacity Building Initiative for Trade Development (CITD) – Lot 1 SPS/TBT/Customs\\nVitamin B-complex\\n• Function in the Body:  \\n– Helps the body use the energy \\nfrom the foods we eat.\\n– Helps brain, nerves, and muscles function.\\n• Food Sources:  \\nWhole grain and enriched breads and cereals; dry \\nbean and peas; peanut butter; nuts; meat; \\npoultry; fish; eggs; milk\\n– Bacterial synthesis in the intestines'), Document(metadata={'producer': 'Microsoft® PowerPoint® 2016', 'creator': 'Microsoft® PowerPoint® 2016', 'creationdate': '2017-07-18T14:34:22+05:30', 'title': 'Aucun titre de diapositive', 'author': 'apave sud', 'moddate': '2017-07-18T14:34:22+05:30', 'source': '/content/introduction-to-nutrition.pdf', 'total_pages': 77, 'page': 33, 'page_label': '34'}, page_content='EU-India Capacity Building Initiative for Trade Development (CITD) – Lot 1 SPS/TBT/Customs\\nVitamin C\\n• Function in the Body:\\n– Helps heal wounds. \\n– Helps maintain healthy bones, \\nteeth, and blood vessels. \\n– Helps body fight infection. \\n• Food Sources:\\n– Citrus fruits, guava, amla, all berries, cabbage, \\npotato, broccolli, tomatoes.\\n– Sprouted grains'), Document(metadata={'producer': 'Microsoft® PowerPoint® 2016', 'creator': 'Microsoft® PowerPoint® 2016', 'creationdate': '2017-07-18T14:34:22+05:30', 'title': 'Aucun titre de diapositive', 'author': 'apave sud', 'moddate': '2017-07-18T14:34:22+05:30', 'source': '/content/introduction-to-nutrition.pdf', 'total_pages': 77, 'page': 34, 'page_label': '35'}, page_content='EU-India Capacity Building Initiative for Trade Development (CITD) – Lot 1 SPS/TBT/Customs\\nVitamin C\\nVitamin C is needed to make \\ncollagen. This is required for the \\nstructure and function of skin, \\ncartilage and bones. Collagen acts \\nlike cement and keeps cells \\ntogether\\nIt is an important nutrient for  \\nhealing cuts and wounds.\\nDid you know?\\nVitamin C can help with the \\nabsorption of iron when foods or \\ndrink containing both vitamin C \\nand iron are eaten at the same \\nmeal.'), Document(metadata={'producer': 'Microsoft® PowerPoint® 2016', 'creator': 'Microsoft® PowerPoint® 2016', 'creationdate': '2017-07-18T14:34:22+05:30', 'title': 'Aucun titre de diapositive', 'author': 'apave sud', 'moddate': '2017-07-18T14:34:22+05:30', 'source': '/content/introduction-to-nutrition.pdf', 'total_pages': 77, 'page': 35, 'page_label': '36'}, page_content='EU-India Capacity Building Initiative for Trade Development (CITD) – Lot 1 SPS/TBT/Customs\\nSources of vitamin C\\n• Fresh fruit especially citrus fruits and\\nberries.\\n• Green vegetables.\\n• Peppers.\\n• Tomatoes.\\n• New potatoes.\\nCan you name some citrus fruit?\\nSweet lime, orange, grapefruit, Kinu,\\ntangerine, carambola (star fruit), lemon.\\nHow many different types of berries\\ncan you think of?\\nAmla, ber, karonda, Blackcurrants,\\nstrawberries, raspberries , blueberries,\\ncranberries, rose apple, zizyphus.'), Document(metadata={'producer': 'Microsoft® PowerPoint® 2016', 'creator': 'Microsoft® PowerPoint® 2016', 'creationdate': '2017-07-18T14:34:22+05:30', 'title': 'Aucun titre de diapositive', 'author': 'apave sud', 'moddate': '2017-07-18T14:34:22+05:30', 'source': '/content/introduction-to-nutrition.pdf', 'total_pages': 77, 'page': 36, 'page_label': '37'}, page_content='EU-India Capacity Building Initiative for Trade Development (CITD) – Lot 1 SPS/TBT/Customs\\nMinerals\\nFunctions\\n• Minerals are inorganic elements found in body fluids and\\ntissues that assist with life-sustaining processes in your\\nbody.\\n• Your body needs macro-minerals in relatively large\\namounts such as calcium& phosphorous.\\n• Micro minerals are required in small amounts such as\\niron, iodine, sodium & potassium.\\n• While trace minerals are required in traces such as\\ncopper, zinc, chromium, selenium etc.\\n• They are required for maintenance and health of skin, hair,\\nnails, blood and soft tissues.\\n• They also govern nerve cell transmission, acid/base and\\nfluid balance, enzyme and hormone activity as well as in\\nblood clotting processes.\\n• The body requires 16 minerals daily.'), Document(metadata={'producer': 'Microsoft® PowerPoint® 2016', 'creator': 'Microsoft® PowerPoint® 2016', 'creationdate': '2017-07-18T14:34:22+05:30', 'title': 'Aucun titre de diapositive', 'author': 'apave sud', 'moddate': '2017-07-18T14:34:22+05:30', 'source': '/content/introduction-to-nutrition.pdf', 'total_pages': 77, 'page': 37, 'page_label': '38'}, page_content='EU-India Capacity Building Initiative for Trade Development (CITD) – Lot 1 SPS/TBT/Customs\\nCalcium & Phosphorus\\n• Function in the Body:\\n– Helps build and maintain healthy bones and \\nteeth.\\n– Helps heart, nerves, and muscles work properly.\\n• Deficiency of calcium & phosphorus leads to rickets \\nand osteoporosis.\\n• Food Sources: \\n– Dairy Products: milk, cheese, ice cream, green \\nleafy vegetables, ragi, small fish eaten with \\nbones.'), Document(metadata={'producer': 'Microsoft® PowerPoint® 2016', 'creator': 'Microsoft® PowerPoint® 2016', 'creationdate': '2017-07-18T14:34:22+05:30', 'title': 'Aucun titre de diapositive', 'author': 'apave sud', 'moddate': '2017-07-18T14:34:22+05:30', 'source': '/content/introduction-to-nutrition.pdf', 'total_pages': 77, 'page': 38, 'page_label': '39'}, page_content='EU-India Capacity Building Initiative for Trade Development (CITD) – Lot 1 SPS/TBT/Customs\\nCalcium\\nThe body contains more calcium\\nthan any other mineral. It is\\nessential for a number of\\nimportant functions such as the\\nmaintenance of bones and\\nteeth, blood clotting and normal\\nmuscle function.\\nDid you know?\\nThe skeleton contains about\\n99% of the body’s calcium with\\napproximately 1kg present in\\nadult bones.'), Document(metadata={'producer': 'Microsoft® PowerPoint® 2016', 'creator': 'Microsoft® PowerPoint® 2016', 'creationdate': '2017-07-18T14:34:22+05:30', 'title': 'Aucun titre de diapositive', 'author': 'apave sud', 'moddate': '2017-07-18T14:34:22+05:30', 'source': '/content/introduction-to-nutrition.pdf', 'total_pages': 77, 'page': 39, 'page_label': '40'}, page_content='EU-India Capacity Building Initiative for Trade Development (CITD) – Lot 1 SPS/TBT/Customs\\nIron\\nIron is essential for the\\nformation of haemoglobin in red\\nblood cells.\\nRed blood cells carry oxygen and\\ntransport it around the body.\\nIron is also required for normal\\nmetabolism and removing waste\\nsubstances from the body.\\nDid you know?\\nThere are two types of iron; one\\nfrom animals sources and the\\nother from plant sources.'), Document(metadata={'producer': 'Microsoft® PowerPoint® 2016', 'creator': 'Microsoft® PowerPoint® 2016', 'creationdate': '2017-07-18T14:34:22+05:30', 'title': 'Aucun titre de diapositive', 'author': 'apave sud', 'moddate': '2017-07-18T14:34:22+05:30', 'source': '/content/introduction-to-nutrition.pdf', 'total_pages': 77, 'page': 40, 'page_label': '41'}, page_content='EU-India Capacity Building Initiative for Trade Development (CITD) – Lot 1 SPS/TBT/Customs\\nSources of iron\\n• Liver.\\n• Red meat.\\n• Pulses- black gram, red gram\\n• Nuts.\\n• Eggs.\\n• Dried fruits.\\n• Fish.\\n• Whole grains.\\n• Dark green leafy vegetables.\\n• Garden cress seeds\\n• Niger seeds\\n• Flax seeds'), Document(metadata={'producer': 'Microsoft® PowerPoint® 2016', 'creator': 'Microsoft® PowerPoint® 2016', 'creationdate': '2017-07-18T14:34:22+05:30', 'title': 'Aucun titre de diapositive', 'author': 'apave sud', 'moddate': '2017-07-18T14:34:22+05:30', 'source': '/content/introduction-to-nutrition.pdf', 'total_pages': 77, 'page': 41, 'page_label': '42'}, page_content='EU-India Capacity Building Initiative for Trade Development (CITD) – Lot 1 SPS/TBT/Customs\\nIron in the diet\\nA lack of iron in the diet means \\nthat the stores in the body will run \\nout. \\nThis can lead to anaemia. \\nWomen and teenage girls need to \\nensure they have enough because \\ntheir requirements are higher than \\nthose of men of the same age\\nDid you know?\\nMore than 2 billion people \\nworldwide suffer from iron \\ndeficiency anaemia, making it the \\nmost common nutritional \\ndeficiency.'), Document(metadata={'producer': 'Microsoft® PowerPoint® 2016', 'creator': 'Microsoft® PowerPoint® 2016', 'creationdate': '2017-07-18T14:34:22+05:30', 'title': 'Aucun titre de diapositive', 'author': 'apave sud', 'moddate': '2017-07-18T14:34:22+05:30', 'source': '/content/introduction-to-nutrition.pdf', 'total_pages': 77, 'page': 42, 'page_label': '43'}, page_content='EU-India Capacity Building Initiative for Trade Development (CITD) – Lot 1 SPS/TBT/Customs\\nSodium\\nSodium is found in all cells and \\nbody fluids. \\nIt is needed for regulating the \\namount of water and other \\nsubstances  in the body.\\nDid you know?\\nSodium is a component of table \\nsalt, known as sodium chloride \\n(NaCl).'), Document(metadata={'producer': 'Microsoft® PowerPoint® 2016', 'creator': 'Microsoft® PowerPoint® 2016', 'creationdate': '2017-07-18T14:34:22+05:30', 'title': 'Aucun titre de diapositive', 'author': 'apave sud', 'moddate': '2017-07-18T14:34:22+05:30', 'source': '/content/introduction-to-nutrition.pdf', 'total_pages': 77, 'page': 43, 'page_label': '44'}, page_content='EU-India Capacity Building Initiative for Trade Development (CITD) – Lot 1 SPS/TBT/Customs\\nSodium in the diet\\nHigh sodium intake is  considered to be \\none of the risk factors for high blood \\npressure, which may lead to heart \\ndisease and stroke.\\nDid you know?\\nIt is recommended that adults and \\nchildren 11 years and over not to have \\nmore than 5g of salt per day. Young \\nchildren should eat less.'), Document(metadata={'producer': 'Microsoft® PowerPoint® 2016', 'creator': 'Microsoft® PowerPoint® 2016', 'creationdate': '2017-07-18T14:34:22+05:30', 'title': 'Aucun titre de diapositive', 'author': 'apave sud', 'moddate': '2017-07-18T14:34:22+05:30', 'source': '/content/introduction-to-nutrition.pdf', 'total_pages': 77, 'page': 44, 'page_label': '45'}, page_content='EU-India Capacity Building Initiative for Trade Development (CITD) – Lot 1 SPS/TBT/Customs\\nFood sources\\n– Processed & prepared foods. Canned\\nfoods such as RTE vegetables, soups etc\\n– Preserves -pickles, wafers, papads and\\nfarsan.\\n– Salt used in cooking and table top.\\n– Condiments. Table salt, soy sauce,\\nketchup, mustard spread, sauces,\\nchutneys\\n– Natural sources. Some meats, poultry,\\ndairy products (esp. cheeses) and green\\nleafy vegetables.\\n45\\nSodium'), Document(metadata={'producer': 'Microsoft® PowerPoint® 2016', 'creator': 'Microsoft® PowerPoint® 2016', 'creationdate': '2017-07-18T14:34:22+05:30', 'title': 'Aucun titre de diapositive', 'author': 'apave sud', 'moddate': '2017-07-18T14:34:22+05:30', 'source': '/content/introduction-to-nutrition.pdf', 'total_pages': 77, 'page': 45, 'page_label': '46'}, page_content='EU-India Capacity Building Initiative for Trade Development (CITD) – Lot 1 SPS/TBT/Customs\\nWater\\n• Getting enough water -- both from water-rich\\nfoods, such as fruits and vegetables, and\\nthrough drinking fluids keeps your cells and\\ntissues functional.\\n• Your body uses water to remove waste products\\nfrom your cells.\\n• Water flushes out toxins that might impede cell\\nfunction.\\n• It helps transport nutrients needed for your\\ncellular metabolism.\\n• It also helps you avoid an abnormally high or\\nlow body temperature that would hinder enzyme\\nfunction.'), Document(metadata={'producer': 'Microsoft® PowerPoint® 2016', 'creator': 'Microsoft® PowerPoint® 2016', 'creationdate': '2017-07-18T14:34:22+05:30', 'title': 'Aucun titre de diapositive', 'author': 'apave sud', 'moddate': '2017-07-18T14:34:22+05:30', 'source': '/content/introduction-to-nutrition.pdf', 'total_pages': 77, 'page': 46, 'page_label': '47'}, page_content='EU-India Capacity Building Initiative for Trade Development (CITD) – Lot 1 SPS/TBT/Customs\\nWater\\nOur body is nearly two-thirds \\nwater, so drinking enough \\nfluid to stay hydrated is very \\nimportant.\\nWater is essential for life and \\nit is very important to get the \\nright amount of fluid to be \\nhealthy.\\nDid you know?\\nHumans can survive for a few \\nweeks without food, but they \\ncannot go without fluids for \\nmore than two to three days.'), Document(metadata={'producer': 'Microsoft® PowerPoint® 2016', 'creator': 'Microsoft® PowerPoint® 2016', 'creationdate': '2017-07-18T14:34:22+05:30', 'title': 'Aucun titre de diapositive', 'author': 'apave sud', 'moddate': '2017-07-18T14:34:22+05:30', 'source': '/content/introduction-to-nutrition.pdf', 'total_pages': 77, 'page': 47, 'page_label': '48'}, page_content='EU-India Capacity Building Initiative for Trade Development (CITD) – Lot 1 SPS/TBT/Customs\\nWater in the diet\\nWater is the major component of body fluid \\nand has many functions in the body: \\n• It acts as a lubricant for joints and eyes;\\n• It is the main component of saliva;\\n• carries nutrients to body cells\\n• helps get rid of waste;\\n• helps regulate body temperature.\\nThe body loses water all the time, when we \\ngo to the toilet, from sweat and also by \\nevaporation from skin. If we do not consume \\nenough water, we become dehydrated.'), Document(metadata={'producer': 'Microsoft® PowerPoint® 2016', 'creator': 'Microsoft® PowerPoint® 2016', 'creationdate': '2017-07-18T14:34:22+05:30', 'title': 'Aucun titre de diapositive', 'author': 'apave sud', 'moddate': '2017-07-18T14:34:22+05:30', 'source': '/content/introduction-to-nutrition.pdf', 'total_pages': 77, 'page': 48, 'page_label': '49'}, page_content='EU-India Capacity Building Initiative for Trade Development (CITD) – Lot 1 SPS/TBT/Customs\\nSources of water\\nWater is provided by food and\\ndrinks.\\nIt has been estimated that\\nroughly 20% of water consumed\\nis from food (e.g. soups, curd\\n(yogurt), fruits and vegetables),\\nwhile 80% is from drinks\\n(water, milk and fruit juice).'), Document(metadata={'producer': 'Microsoft® PowerPoint® 2016', 'creator': 'Microsoft® PowerPoint® 2016', 'creationdate': '2017-07-18T14:34:22+05:30', 'title': 'Aucun titre de diapositive', 'author': 'apave sud', 'moddate': '2017-07-18T14:34:22+05:30', 'source': '/content/introduction-to-nutrition.pdf', 'total_pages': 77, 'page': 49, 'page_label': '50'}, page_content='EU-India Capacity Building Initiative for Trade Development (CITD) – Lot 1 SPS/TBT/Customs\\n2-4 glasses/ day\\n4-6 glasses/ day\\n6-8 glasses/ day\\n8-10 glasses/ day\\nQuestion-\\nOn average, how much water should \\nwe drink each day?'), Document(metadata={'producer': 'Microsoft® PowerPoint® 2016', 'creator': 'Microsoft® PowerPoint® 2016', 'creationdate': '2017-07-18T14:34:22+05:30', 'title': 'Aucun titre de diapositive', 'author': 'apave sud', 'moddate': '2017-07-18T14:34:22+05:30', 'source': '/content/introduction-to-nutrition.pdf', 'total_pages': 77, 'page': 50, 'page_label': '51'}, page_content='EU-India Capacity Building Initiative for Trade Development (CITD) – Lot 1 SPS/TBT/Customs\\nRDA\\nEnergy \\nRequirement\\ns for different \\nActivities'), Document(metadata={'producer': 'Microsoft® PowerPoint® 2016', 'creator': 'Microsoft® PowerPoint® 2016', 'creationdate': '2017-07-18T14:34:22+05:30', 'title': 'Aucun titre de diapositive', 'author': 'apave sud', 'moddate': '2017-07-18T14:34:22+05:30', 'source': '/content/introduction-to-nutrition.pdf', 'total_pages': 77, 'page': 51, 'page_label': '52'}, page_content='EU-India Capacity Building Initiative for Trade Development (CITD) – Lot 1 SPS/TBT/Customs\\nRecommended Dietary Allowance\\n• RDA is defined as the amount of nutrient sufficient for the\\nmaintenance of health in nearly all people.\\n• The RDA for all nutrients have been calculated for Indians\\nfor all age groups based on activity levels to ensure good\\nhealth.\\n• The RDA’s are suggested for a reference man and reference\\nwoman.\\n• RDA=minimum requirement + safety margin (individual\\nvariation)\\n• RDA does not apply to sick people.'), Document(metadata={'producer': 'Microsoft® PowerPoint® 2016', 'creator': 'Microsoft® PowerPoint® 2016', 'creationdate': '2017-07-18T14:34:22+05:30', 'title': 'Aucun titre de diapositive', 'author': 'apave sud', 'moddate': '2017-07-18T14:34:22+05:30', 'source': '/content/introduction-to-nutrition.pdf', 'total_pages': 77, 'page': 52, 'page_label': '53'}, page_content='EU-India Capacity Building Initiative for Trade Development (CITD) – Lot 1 SPS/TBT/Customs\\nWho is a Reference man and a Reference \\nwoman?\\nReference man :  \\n– Age:20-39 yr and Weighs.:60 kg \\n– Healthy, free from disease and fit for active work \\n– He spends 8 hrs daily on occupational work (moderate \\nactivity) \\n– While not at work he spends 8 hrs in bed, \\n– 6 hrs sitting & moving around, \\n– 2 hrs walking & household work \\nReference Woman: has the same criteria as for reference \\nman except her weight is 55 kg'), Document(metadata={'producer': 'Microsoft® PowerPoint® 2016', 'creator': 'Microsoft® PowerPoint® 2016', 'creationdate': '2017-07-18T14:34:22+05:30', 'title': 'Aucun titre de diapositive', 'author': 'apave sud', 'moddate': '2017-07-18T14:34:22+05:30', 'source': '/content/introduction-to-nutrition.pdf', 'total_pages': 77, 'page': 53, 'page_label': '54'}, page_content='EU-India Capacity Building Initiative for Trade Development (CITD) – Lot 1 SPS/TBT/Customs\\nRecommended Dietary Allowances for Indian \\nChildren \\nGroup Age\\nYears\\nEnergy\\nkcal/d\\nProteins\\ng/d\\nFat\\ng/d\\nIron\\nmg/d\\nVitamin \\nA\\nCarotene \\nμg/d\\nChildren 4 – 6 years 1350 20.1 25 13 3200\\nChildren 7 – 9 years 1690 29.5 30 16 4800\\nBoys 10 – 12 \\nyears\\n2190 39.9 35 21 4800\\nGirls 10 – 12 \\nyears\\n2010 40.4 35 27 4800\\nBoys 13 – 15 \\nyears\\n2750 54.3 45 32 4800\\nGirls 13 – 15 \\nyears\\n2330 51.9 40 27 4800'), Document(metadata={'producer': 'Microsoft® PowerPoint® 2016', 'creator': 'Microsoft® PowerPoint® 2016', 'creationdate': '2017-07-18T14:34:22+05:30', 'title': 'Aucun titre de diapositive', 'author': 'apave sud', 'moddate': '2017-07-18T14:34:22+05:30', 'source': '/content/introduction-to-nutrition.pdf', 'total_pages': 77, 'page': 54, 'page_label': '55'}, page_content='EU-India Capacity Building Initiative for Trade Development (CITD) – Lot 1 SPS/TBT/Customs\\nTotal Energy Requirement\\nEnergy for basal \\nmetabolism \\n1 kcal /hr/kg body \\nwt / per day\\nEnergy for   \\ndigestion of food.\\nSDA\\nEnergy for \\noccupational work \\n(heavy / moderate / \\nsedentary)'), Document(metadata={'producer': 'Microsoft® PowerPoint® 2016', 'creator': 'Microsoft® PowerPoint® 2016', 'creationdate': '2017-07-18T14:34:22+05:30', 'title': 'Aucun titre de diapositive', 'author': 'apave sud', 'moddate': '2017-07-18T14:34:22+05:30', 'source': '/content/introduction-to-nutrition.pdf', 'total_pages': 77, 'page': 55, 'page_label': '56'}, page_content='EU-India Capacity Building Initiative for Trade Development (CITD) – Lot 1 SPS/TBT/Customs'), Document(metadata={'producer': 'Microsoft® PowerPoint® 2016', 'creator': 'Microsoft® PowerPoint® 2016', 'creationdate': '2017-07-18T14:34:22+05:30', 'title': 'Aucun titre de diapositive', 'author': 'apave sud', 'moddate': '2017-07-18T14:34:22+05:30', 'source': '/content/introduction-to-nutrition.pdf', 'total_pages': 77, 'page': 56, 'page_label': '57'}, page_content='EU-India Capacity Building Initiative for Trade Development (CITD) – Lot 1 SPS/TBT/Customs\\nDo you know what are voluntary and \\ninvoluntary functions of the body?\\nVoluntary :\\nresponses are mainly \\nunder conscious control for \\ne.g. walking, playing etc.\\nInvoluntary: responses \\nare not in our control for \\ne.g. pumping of heart, \\nbreathing, digestion of \\nfood etc.\\nVoluntary\\nInvoluntary'), Document(metadata={'producer': 'Microsoft® PowerPoint® 2016', 'creator': 'Microsoft® PowerPoint® 2016', 'creationdate': '2017-07-18T14:34:22+05:30', 'title': 'Aucun titre de diapositive', 'author': 'apave sud', 'moddate': '2017-07-18T14:34:22+05:30', 'source': '/content/introduction-to-nutrition.pdf', 'total_pages': 77, 'page': 57, 'page_label': '58'}, page_content='EU-India Capacity Building Initiative for Trade Development (CITD) – Lot 1 SPS/TBT/Customs'), Document(metadata={'producer': 'Microsoft® PowerPoint® 2016', 'creator': 'Microsoft® PowerPoint® 2016', 'creationdate': '2017-07-18T14:34:22+05:30', 'title': 'Aucun titre de diapositive', 'author': 'apave sud', 'moddate': '2017-07-18T14:34:22+05:30', 'source': '/content/introduction-to-nutrition.pdf', 'total_pages': 77, 'page': 58, 'page_label': '59'}, page_content='EU-India Capacity Building Initiative for Trade Development (CITD) – Lot 1 SPS/TBT/Customs\\nEnergy Expenditure'), Document(metadata={'producer': 'Microsoft® PowerPoint® 2016', 'creator': 'Microsoft® PowerPoint® 2016', 'creationdate': '2017-07-18T14:34:22+05:30', 'title': 'Aucun titre de diapositive', 'author': 'apave sud', 'moddate': '2017-07-18T14:34:22+05:30', 'source': '/content/introduction-to-nutrition.pdf', 'total_pages': 77, 'page': 59, 'page_label': '60'}, page_content='EU-India Capacity Building Initiative for Trade Development (CITD) – Lot 1 SPS/TBT/Customs\\nEnergy Expenditure'), Document(metadata={'producer': 'Microsoft® PowerPoint® 2016', 'creator': 'Microsoft® PowerPoint® 2016', 'creationdate': '2017-07-18T14:34:22+05:30', 'title': 'Aucun titre de diapositive', 'author': 'apave sud', 'moddate': '2017-07-18T14:34:22+05:30', 'source': '/content/introduction-to-nutrition.pdf', 'total_pages': 77, 'page': 60, 'page_label': '61'}, page_content='EU-India Capacity Building Initiative for Trade Development (CITD) – Lot 1 SPS/TBT/Customs\\nNo Excuse Please,,,,,,,,,,,'), Document(metadata={'producer': 'Microsoft® PowerPoint® 2016', 'creator': 'Microsoft® PowerPoint® 2016', 'creationdate': '2017-07-18T14:34:22+05:30', 'title': 'Aucun titre de diapositive', 'author': 'apave sud', 'moddate': '2017-07-18T14:34:22+05:30', 'source': '/content/introduction-to-nutrition.pdf', 'total_pages': 77, 'page': 61, 'page_label': '62'}, page_content='EU-India Capacity Building Initiative for Trade Development (CITD) – Lot 1 SPS/TBT/Customs\\nEnergy Value \\nof \\nFood'), Document(metadata={'producer': 'Microsoft® PowerPoint® 2016', 'creator': 'Microsoft® PowerPoint® 2016', 'creationdate': '2017-07-18T14:34:22+05:30', 'title': 'Aucun titre de diapositive', 'author': 'apave sud', 'moddate': '2017-07-18T14:34:22+05:30', 'source': '/content/introduction-to-nutrition.pdf', 'total_pages': 77, 'page': 62, 'page_label': '63'}, page_content='EU-India Capacity Building Initiative for Trade Development (CITD) – Lot 1 SPS/TBT/Customs\\nEnergy in the diet is provided by the nutrients \\ncarbohydrate, protein, and fat.\\n1 gram of carbohydrate provides 4 kcal.\\n1 gram of protein provides 4 kcal.\\n1 gram of fat provides 9 kcal.\\nEnergy providing nutrients'), Document(metadata={'producer': 'Microsoft® PowerPoint® 2016', 'creator': 'Microsoft® PowerPoint® 2016', 'creationdate': '2017-07-18T14:34:22+05:30', 'title': 'Aucun titre de diapositive', 'author': 'apave sud', 'moddate': '2017-07-18T14:34:22+05:30', 'source': '/content/introduction-to-nutrition.pdf', 'total_pages': 77, 'page': 63, 'page_label': '64'}, page_content='EU-India Capacity Building Initiative for Trade Development (CITD) – Lot 1 SPS/TBT/Customs\\nPer \\nserving\\nEnergy Carbohydrate Fat Protein\\nChapatti \\n20g\\n70 kcal 15g 0 2g\\nGhee 10g 90kcal 0g 10 g 0g\\nMilk 3% \\nfat 1 \\nglass/ \\n240ml\\n145 \\nkcal\\n12g 7g 8g\\nWhich food item gives most nutrients?'), Document(metadata={'producer': 'Microsoft® PowerPoint® 2016', 'creator': 'Microsoft® PowerPoint® 2016', 'creationdate': '2017-07-18T14:34:22+05:30', 'title': 'Aucun titre de diapositive', 'author': 'apave sud', 'moddate': '2017-07-18T14:34:22+05:30', 'source': '/content/introduction-to-nutrition.pdf', 'total_pages': 77, 'page': 64, 'page_label': '65'}, page_content='EU-India Capacity Building Initiative for Trade Development (CITD) – Lot 1 SPS/TBT/Customs'), Document(metadata={'producer': 'Microsoft® PowerPoint® 2016', 'creator': 'Microsoft® PowerPoint® 2016', 'creationdate': '2017-07-18T14:34:22+05:30', 'title': 'Aucun titre de diapositive', 'author': 'apave sud', 'moddate': '2017-07-18T14:34:22+05:30', 'source': '/content/introduction-to-nutrition.pdf', 'total_pages': 77, 'page': 65, 'page_label': '66'}, page_content='EU-India Capacity Building Initiative for Trade Development (CITD) – Lot 1 SPS/TBT/Customs\\nCereals and Pulses\\nPlain dal'), Document(metadata={'producer': 'Microsoft® PowerPoint® 2016', 'creator': 'Microsoft® PowerPoint® 2016', 'creationdate': '2017-07-18T14:34:22+05:30', 'title': 'Aucun titre de diapositive', 'author': 'apave sud', 'moddate': '2017-07-18T14:34:22+05:30', 'source': '/content/introduction-to-nutrition.pdf', 'total_pages': 77, 'page': 66, 'page_label': '67'}, page_content='EU-India Capacity Building Initiative for Trade Development (CITD) – Lot 1 SPS/TBT/Customs\\nSnacks'), Document(metadata={'producer': 'Microsoft® PowerPoint® 2016', 'creator': 'Microsoft® PowerPoint® 2016', 'creationdate': '2017-07-18T14:34:22+05:30', 'title': 'Aucun titre de diapositive', 'author': 'apave sud', 'moddate': '2017-07-18T14:34:22+05:30', 'source': '/content/introduction-to-nutrition.pdf', 'total_pages': 77, 'page': 67, 'page_label': '68'}, page_content='EU-India Capacity Building Initiative for Trade Development (CITD) – Lot 1 SPS/TBT/Customs\\nSweets and Desserts'), Document(metadata={'producer': 'Microsoft® PowerPoint® 2016', 'creator': 'Microsoft® PowerPoint® 2016', 'creationdate': '2017-07-18T14:34:22+05:30', 'title': 'Aucun titre de diapositive', 'author': 'apave sud', 'moddate': '2017-07-18T14:34:22+05:30', 'source': '/content/introduction-to-nutrition.pdf', 'total_pages': 77, 'page': 68, 'page_label': '69'}, page_content='EU-India Capacity Building Initiative for Trade Development (CITD) – Lot 1 SPS/TBT/Customs\\nBeverages'), Document(metadata={'producer': 'Microsoft® PowerPoint® 2016', 'creator': 'Microsoft® PowerPoint® 2016', 'creationdate': '2017-07-18T14:34:22+05:30', 'title': 'Aucun titre de diapositive', 'author': 'apave sud', 'moddate': '2017-07-18T14:34:22+05:30', 'source': '/content/introduction-to-nutrition.pdf', 'total_pages': 77, 'page': 69, 'page_label': '70'}, page_content='EU-India Capacity Building Initiative for Trade Development (CITD) – Lot 1 SPS/TBT/Customs\\nNuts'), Document(metadata={'producer': 'Microsoft® PowerPoint® 2016', 'creator': 'Microsoft® PowerPoint® 2016', 'creationdate': '2017-07-18T14:34:22+05:30', 'title': 'Aucun titre de diapositive', 'author': 'apave sud', 'moddate': '2017-07-18T14:34:22+05:30', 'source': '/content/introduction-to-nutrition.pdf', 'total_pages': 77, 'page': 70, 'page_label': '71'}, page_content='EU-India Capacity Building Initiative for Trade Development (CITD) – Lot 1 SPS/TBT/Customs\\nFruits'), Document(metadata={'producer': 'Microsoft® PowerPoint® 2016', 'creator': 'Microsoft® PowerPoint® 2016', 'creationdate': '2017-07-18T14:34:22+05:30', 'title': 'Aucun titre de diapositive', 'author': 'apave sud', 'moddate': '2017-07-18T14:34:22+05:30', 'source': '/content/introduction-to-nutrition.pdf', 'total_pages': 77, 'page': 71, 'page_label': '72'}, page_content='EU-India Capacity Building Initiative for Trade Development (CITD) – Lot 1 SPS/TBT/Customs\\nFruits'), Document(metadata={'producer': 'Microsoft® PowerPoint® 2016', 'creator': 'Microsoft® PowerPoint® 2016', 'creationdate': '2017-07-18T14:34:22+05:30', 'title': 'Aucun titre de diapositive', 'author': 'apave sud', 'moddate': '2017-07-18T14:34:22+05:30', 'source': '/content/introduction-to-nutrition.pdf', 'total_pages': 77, 'page': 72, 'page_label': '73'}, page_content='EU-India Capacity Building Initiative for Trade Development (CITD) – Lot 1 SPS/TBT/Customs\\nACTIVITIES'), Document(metadata={'producer': 'Microsoft® PowerPoint® 2016', 'creator': 'Microsoft® PowerPoint® 2016', 'creationdate': '2017-07-18T14:34:22+05:30', 'title': 'Aucun titre de diapositive', 'author': 'apave sud', 'moddate': '2017-07-18T14:34:22+05:30', 'source': '/content/introduction-to-nutrition.pdf', 'total_pages': 77, 'page': 73, 'page_label': '74'}, page_content='EU-India Capacity Building Initiative for Trade Development (CITD) – Lot 1 SPS/TBT/Customs\\nActivity 1\\n1. I serve many functions in the body.  I help carry nutrients to the body’s cells \\nand I also help regulate body temperature.  I am____________.\\n2. I can be converted into energy.  I am also used to build, maintain and repair \\nbody tissues.  I am_________.\\n3. I have a bad reputation in many people’s minds but I do serve many \\nfunctions in the body.  For example, I am the most concentrated source of \\nenergy and I also am needed for growth and healthy skin.  I \\nam______________.\\n4. I am the body’s main source of energy and I come in two forms, simple and \\ncomplex. I am_______________.\\n5. I do not provide energy (calories) but I do help regulate many of the'), Document(metadata={'producer': 'Microsoft® PowerPoint® 2016', 'creator': 'Microsoft® PowerPoint® 2016', 'creationdate': '2017-07-18T14:34:22+05:30', 'title': 'Aucun titre de diapositive', 'author': 'apave sud', 'moddate': '2017-07-18T14:34:22+05:30', 'source': '/content/introduction-to-nutrition.pdf', 'total_pages': 77, 'page': 73, 'page_label': '74'}, page_content='am______________.\\n4. I am the body’s main source of energy and I come in two forms, simple and \\ncomplex. I am_______________.\\n5. I do not provide energy (calories) but I do help regulate many of the \\nchemical processes in the body.  You need 13 different forms of me everyday.  \\nI am_____________.\\n6. I am depended on for nearly every process necessary for life.  The body \\nrequires 16 types of me everyday from calcium to iron.  I am _________.\\nWho am I?\\nFill in the blank with the appropriate nutrient.'), Document(metadata={'producer': 'Microsoft® PowerPoint® 2016', 'creator': 'Microsoft® PowerPoint® 2016', 'creationdate': '2017-07-18T14:34:22+05:30', 'title': 'Aucun titre de diapositive', 'author': 'apave sud', 'moddate': '2017-07-18T14:34:22+05:30', 'source': '/content/introduction-to-nutrition.pdf', 'total_pages': 77, 'page': 74, 'page_label': '75'}, page_content='EU-India Capacity Building Initiative for Trade Development (CITD) – Lot 1 SPS/TBT/Customs\\nActivity 1 with answers\\n1. I serve many functions in the body.  I help carry nutrients to the body’s cells \\nand I also help regulate body temperature.  I am____Water________.\\n2. I can be converted into energy.  I am also used to build, maintain and repair \\nbody tissues.  I am___Protein______.\\n3. I have a bad reputation in many people’s minds but I do serve many \\nfunctions in the body.  For example, I am the most concentrated source of \\nenergy and I also am needed for growth and healthy skin.  I \\nam___Fat___________.\\n4. I am the body’s main source of energy and I come in two forms, simple and \\ncomplex. I am__Carbohydrates_____________.'), Document(metadata={'producer': 'Microsoft® PowerPoint® 2016', 'creator': 'Microsoft® PowerPoint® 2016', 'creationdate': '2017-07-18T14:34:22+05:30', 'title': 'Aucun titre de diapositive', 'author': 'apave sud', 'moddate': '2017-07-18T14:34:22+05:30', 'source': '/content/introduction-to-nutrition.pdf', 'total_pages': 77, 'page': 74, 'page_label': '75'}, page_content='am___Fat___________.\\n4. I am the body’s main source of energy and I come in two forms, simple and \\ncomplex. I am__Carbohydrates_____________.\\n5. I do not provide energy (calories) but I do help regulate many of the \\nchemical processes in the body.  You need 13 different forms of me everyday.  \\nI am______vitamin_______.\\n6. I am depended on for nearly every process necessary for life.  The body \\nrequires 16 types of me everyday from calcium to iron.  I am \\n__mineral_______.\\nWho am I?\\nFill in the blank with the appropriate nutrient.'), Document(metadata={'producer': 'Microsoft® PowerPoint® 2016', 'creator': 'Microsoft® PowerPoint® 2016', 'creationdate': '2017-07-18T14:34:22+05:30', 'title': 'Aucun titre de diapositive', 'author': 'apave sud', 'moddate': '2017-07-18T14:34:22+05:30', 'source': '/content/introduction-to-nutrition.pdf', 'total_pages': 77, 'page': 75, 'page_label': '76'}, page_content='EU-India Capacity Building Initiative for Trade Development (CITD) – Lot 1 SPS/TBT/Customs\\nPer \\nserving\\nEnergy Carbohydrate Fat Protein\\nChapatti \\n20g\\n70 kcal 15g 0 2g\\nGhee 10g 90kcal 0g 10 g 0g\\nMilk 3% \\nfat 1 \\nglass/ \\n240ml\\n145 \\nkcal\\n12g 7g 8g\\nWhich food item gives most nutrients?'), Document(metadata={'producer': 'Microsoft® PowerPoint® 2016', 'creator': 'Microsoft® PowerPoint® 2016', 'creationdate': '2017-07-18T14:34:22+05:30', 'title': 'Aucun titre de diapositive', 'author': 'apave sud', 'moddate': '2017-07-18T14:34:22+05:30', 'source': '/content/introduction-to-nutrition.pdf', 'total_pages': 77, 'page': 76, 'page_label': '77'}, page_content='EU-India Capacity Building Initiative for Trade Development (CITD) – Lot 1 SPS/TBT/Customs\\nThank you\\nEU-India Capacity Building Initiative \\nfor Trade Development (CITD)')]\n"
          ]
        }
      ],
      "source": [
        "#Step-4: Split into Text\n",
        "\n",
        "from langchain.text_splitter import RecursiveCharacterTextSplitter\n",
        "# ------------------ SPLIT ------------------\n",
        "splitter = RecursiveCharacterTextSplitter(\n",
        "    chunk_size=800,\n",
        "    chunk_overlap=200\n",
        ")\n",
        "docs = splitter.split_documents(documents)\n",
        "print(docs)"
      ]
    },
    {
      "cell_type": "code",
      "execution_count": 88,
      "metadata": {
        "id": "6J0zmcVtfdnW"
      },
      "outputs": [],
      "source": [
        "# !pip install langchain langchain-community chromadb pypdf tiktoken faiss-cpu"
      ]
    },
    {
      "cell_type": "code",
      "execution_count": 89,
      "metadata": {
        "colab": {
          "base_uri": "https://localhost:8080/"
        },
        "id": "Olg8qpsifR6B",
        "outputId": "8afc5a39-afa3-4793-bf8f-3418bdc71889"
      },
      "outputs": [
        {
          "output_type": "stream",
          "name": "stdout",
          "text": [
            "Requirement already satisfied: chromadb in /usr/local/lib/python3.12/dist-packages (1.1.0)\n",
            "Requirement already satisfied: build>=1.0.3 in /usr/local/lib/python3.12/dist-packages (from chromadb) (1.3.0)\n",
            "Requirement already satisfied: pydantic>=1.9 in /usr/local/lib/python3.12/dist-packages (from chromadb) (2.11.9)\n",
            "Requirement already satisfied: pybase64>=1.4.1 in /usr/local/lib/python3.12/dist-packages (from chromadb) (1.4.2)\n",
            "Requirement already satisfied: uvicorn>=0.18.3 in /usr/local/lib/python3.12/dist-packages (from uvicorn[standard]>=0.18.3->chromadb) (0.35.0)\n",
            "Requirement already satisfied: numpy>=1.22.5 in /usr/local/lib/python3.12/dist-packages (from chromadb) (2.0.2)\n",
            "Requirement already satisfied: posthog<6.0.0,>=2.4.0 in /usr/local/lib/python3.12/dist-packages (from chromadb) (5.4.0)\n",
            "Requirement already satisfied: typing-extensions>=4.5.0 in /usr/local/lib/python3.12/dist-packages (from chromadb) (4.15.0)\n",
            "Requirement already satisfied: onnxruntime>=1.14.1 in /usr/local/lib/python3.12/dist-packages (from chromadb) (1.23.0)\n",
            "Requirement already satisfied: opentelemetry-api>=1.2.0 in /usr/local/lib/python3.12/dist-packages (from chromadb) (1.37.0)\n",
            "Requirement already satisfied: opentelemetry-exporter-otlp-proto-grpc>=1.2.0 in /usr/local/lib/python3.12/dist-packages (from chromadb) (1.37.0)\n",
            "Requirement already satisfied: opentelemetry-sdk>=1.2.0 in /usr/local/lib/python3.12/dist-packages (from chromadb) (1.37.0)\n",
            "Requirement already satisfied: tokenizers>=0.13.2 in /usr/local/lib/python3.12/dist-packages (from chromadb) (0.22.0)\n",
            "Requirement already satisfied: pypika>=0.48.9 in /usr/local/lib/python3.12/dist-packages (from chromadb) (0.48.9)\n",
            "Requirement already satisfied: tqdm>=4.65.0 in /usr/local/lib/python3.12/dist-packages (from chromadb) (4.67.1)\n",
            "Requirement already satisfied: overrides>=7.3.1 in /usr/local/lib/python3.12/dist-packages (from chromadb) (7.7.0)\n",
            "Requirement already satisfied: importlib-resources in /usr/local/lib/python3.12/dist-packages (from chromadb) (6.5.2)\n",
            "Requirement already satisfied: grpcio>=1.58.0 in /usr/local/lib/python3.12/dist-packages (from chromadb) (1.75.0)\n",
            "Requirement already satisfied: bcrypt>=4.0.1 in /usr/local/lib/python3.12/dist-packages (from chromadb) (5.0.0)\n",
            "Requirement already satisfied: typer>=0.9.0 in /usr/local/lib/python3.12/dist-packages (from chromadb) (0.17.4)\n",
            "Requirement already satisfied: kubernetes>=28.1.0 in /usr/local/lib/python3.12/dist-packages (from chromadb) (33.1.0)\n",
            "Requirement already satisfied: tenacity>=8.2.3 in /usr/local/lib/python3.12/dist-packages (from chromadb) (8.5.0)\n",
            "Requirement already satisfied: pyyaml>=6.0.0 in /usr/local/lib/python3.12/dist-packages (from chromadb) (6.0.2)\n",
            "Requirement already satisfied: mmh3>=4.0.1 in /usr/local/lib/python3.12/dist-packages (from chromadb) (5.2.0)\n",
            "Requirement already satisfied: orjson>=3.9.12 in /usr/local/lib/python3.12/dist-packages (from chromadb) (3.11.3)\n",
            "Requirement already satisfied: httpx>=0.27.0 in /usr/local/lib/python3.12/dist-packages (from chromadb) (0.28.1)\n",
            "Requirement already satisfied: rich>=10.11.0 in /usr/local/lib/python3.12/dist-packages (from chromadb) (13.9.4)\n",
            "Requirement already satisfied: jsonschema>=4.19.0 in /usr/local/lib/python3.12/dist-packages (from chromadb) (4.25.1)\n",
            "Requirement already satisfied: packaging>=19.1 in /usr/local/lib/python3.12/dist-packages (from build>=1.0.3->chromadb) (25.0)\n",
            "Requirement already satisfied: pyproject_hooks in /usr/local/lib/python3.12/dist-packages (from build>=1.0.3->chromadb) (1.2.0)\n",
            "Requirement already satisfied: anyio in /usr/local/lib/python3.12/dist-packages (from httpx>=0.27.0->chromadb) (4.10.0)\n",
            "Requirement already satisfied: certifi in /usr/local/lib/python3.12/dist-packages (from httpx>=0.27.0->chromadb) (2025.8.3)\n",
            "Requirement already satisfied: httpcore==1.* in /usr/local/lib/python3.12/dist-packages (from httpx>=0.27.0->chromadb) (1.0.9)\n",
            "Requirement already satisfied: idna in /usr/local/lib/python3.12/dist-packages (from httpx>=0.27.0->chromadb) (3.10)\n",
            "Requirement already satisfied: h11>=0.16 in /usr/local/lib/python3.12/dist-packages (from httpcore==1.*->httpx>=0.27.0->chromadb) (0.16.0)\n",
            "Requirement already satisfied: attrs>=22.2.0 in /usr/local/lib/python3.12/dist-packages (from jsonschema>=4.19.0->chromadb) (25.3.0)\n",
            "Requirement already satisfied: jsonschema-specifications>=2023.03.6 in /usr/local/lib/python3.12/dist-packages (from jsonschema>=4.19.0->chromadb) (2025.9.1)\n",
            "Requirement already satisfied: referencing>=0.28.4 in /usr/local/lib/python3.12/dist-packages (from jsonschema>=4.19.0->chromadb) (0.36.2)\n",
            "Requirement already satisfied: rpds-py>=0.7.1 in /usr/local/lib/python3.12/dist-packages (from jsonschema>=4.19.0->chromadb) (0.27.1)\n",
            "Requirement already satisfied: six>=1.9.0 in /usr/local/lib/python3.12/dist-packages (from kubernetes>=28.1.0->chromadb) (1.17.0)\n",
            "Requirement already satisfied: python-dateutil>=2.5.3 in /usr/local/lib/python3.12/dist-packages (from kubernetes>=28.1.0->chromadb) (2.9.0.post0)\n",
            "Requirement already satisfied: google-auth>=1.0.1 in /usr/local/lib/python3.12/dist-packages (from kubernetes>=28.1.0->chromadb) (2.38.0)\n",
            "Requirement already satisfied: websocket-client!=0.40.0,!=0.41.*,!=0.42.*,>=0.32.0 in /usr/local/lib/python3.12/dist-packages (from kubernetes>=28.1.0->chromadb) (1.8.0)\n",
            "Requirement already satisfied: requests in /usr/local/lib/python3.12/dist-packages (from kubernetes>=28.1.0->chromadb) (2.32.5)\n",
            "Requirement already satisfied: requests-oauthlib in /usr/local/lib/python3.12/dist-packages (from kubernetes>=28.1.0->chromadb) (2.0.0)\n",
            "Requirement already satisfied: oauthlib>=3.2.2 in /usr/local/lib/python3.12/dist-packages (from kubernetes>=28.1.0->chromadb) (3.3.1)\n",
            "Requirement already satisfied: urllib3>=1.24.2 in /usr/local/lib/python3.12/dist-packages (from kubernetes>=28.1.0->chromadb) (2.5.0)\n",
            "Requirement already satisfied: durationpy>=0.7 in /usr/local/lib/python3.12/dist-packages (from kubernetes>=28.1.0->chromadb) (0.10)\n",
            "Requirement already satisfied: coloredlogs in /usr/local/lib/python3.12/dist-packages (from onnxruntime>=1.14.1->chromadb) (15.0.1)\n",
            "Requirement already satisfied: flatbuffers in /usr/local/lib/python3.12/dist-packages (from onnxruntime>=1.14.1->chromadb) (25.2.10)\n",
            "Requirement already satisfied: protobuf in /usr/local/lib/python3.12/dist-packages (from onnxruntime>=1.14.1->chromadb) (5.29.5)\n",
            "Requirement already satisfied: sympy in /usr/local/lib/python3.12/dist-packages (from onnxruntime>=1.14.1->chromadb) (1.13.3)\n",
            "Requirement already satisfied: importlib-metadata<8.8.0,>=6.0 in /usr/local/lib/python3.12/dist-packages (from opentelemetry-api>=1.2.0->chromadb) (8.7.0)\n",
            "Requirement already satisfied: googleapis-common-protos~=1.57 in /usr/local/lib/python3.12/dist-packages (from opentelemetry-exporter-otlp-proto-grpc>=1.2.0->chromadb) (1.70.0)\n",
            "Requirement already satisfied: opentelemetry-exporter-otlp-proto-common==1.37.0 in /usr/local/lib/python3.12/dist-packages (from opentelemetry-exporter-otlp-proto-grpc>=1.2.0->chromadb) (1.37.0)\n",
            "Requirement already satisfied: opentelemetry-proto==1.37.0 in /usr/local/lib/python3.12/dist-packages (from opentelemetry-exporter-otlp-proto-grpc>=1.2.0->chromadb) (1.37.0)\n",
            "Requirement already satisfied: opentelemetry-semantic-conventions==0.58b0 in /usr/local/lib/python3.12/dist-packages (from opentelemetry-sdk>=1.2.0->chromadb) (0.58b0)\n",
            "Requirement already satisfied: backoff>=1.10.0 in /usr/local/lib/python3.12/dist-packages (from posthog<6.0.0,>=2.4.0->chromadb) (2.2.1)\n",
            "Requirement already satisfied: distro>=1.5.0 in /usr/local/lib/python3.12/dist-packages (from posthog<6.0.0,>=2.4.0->chromadb) (1.9.0)\n",
            "Requirement already satisfied: annotated-types>=0.6.0 in /usr/local/lib/python3.12/dist-packages (from pydantic>=1.9->chromadb) (0.7.0)\n",
            "Requirement already satisfied: pydantic-core==2.33.2 in /usr/local/lib/python3.12/dist-packages (from pydantic>=1.9->chromadb) (2.33.2)\n",
            "Requirement already satisfied: typing-inspection>=0.4.0 in /usr/local/lib/python3.12/dist-packages (from pydantic>=1.9->chromadb) (0.4.1)\n",
            "Requirement already satisfied: markdown-it-py>=2.2.0 in /usr/local/lib/python3.12/dist-packages (from rich>=10.11.0->chromadb) (4.0.0)\n",
            "Requirement already satisfied: pygments<3.0.0,>=2.13.0 in /usr/local/lib/python3.12/dist-packages (from rich>=10.11.0->chromadb) (2.19.2)\n",
            "Requirement already satisfied: huggingface-hub<1.0,>=0.16.4 in /usr/local/lib/python3.12/dist-packages (from tokenizers>=0.13.2->chromadb) (0.35.0)\n",
            "Requirement already satisfied: click>=8.0.0 in /usr/local/lib/python3.12/dist-packages (from typer>=0.9.0->chromadb) (8.2.1)\n",
            "Requirement already satisfied: shellingham>=1.3.0 in /usr/local/lib/python3.12/dist-packages (from typer>=0.9.0->chromadb) (1.5.4)\n",
            "Requirement already satisfied: httptools>=0.6.3 in /usr/local/lib/python3.12/dist-packages (from uvicorn[standard]>=0.18.3->chromadb) (0.6.4)\n",
            "Requirement already satisfied: python-dotenv>=0.13 in /usr/local/lib/python3.12/dist-packages (from uvicorn[standard]>=0.18.3->chromadb) (1.1.1)\n",
            "Requirement already satisfied: uvloop>=0.15.1 in /usr/local/lib/python3.12/dist-packages (from uvicorn[standard]>=0.18.3->chromadb) (0.21.0)\n",
            "Requirement already satisfied: watchfiles>=0.13 in /usr/local/lib/python3.12/dist-packages (from uvicorn[standard]>=0.18.3->chromadb) (1.1.0)\n",
            "Requirement already satisfied: websockets>=10.4 in /usr/local/lib/python3.12/dist-packages (from uvicorn[standard]>=0.18.3->chromadb) (15.0.1)\n",
            "Requirement already satisfied: cachetools<6.0,>=2.0.0 in /usr/local/lib/python3.12/dist-packages (from google-auth>=1.0.1->kubernetes>=28.1.0->chromadb) (5.5.2)\n",
            "Requirement already satisfied: pyasn1-modules>=0.2.1 in /usr/local/lib/python3.12/dist-packages (from google-auth>=1.0.1->kubernetes>=28.1.0->chromadb) (0.4.2)\n",
            "Requirement already satisfied: rsa<5,>=3.1.4 in /usr/local/lib/python3.12/dist-packages (from google-auth>=1.0.1->kubernetes>=28.1.0->chromadb) (4.9.1)\n",
            "Requirement already satisfied: filelock in /usr/local/lib/python3.12/dist-packages (from huggingface-hub<1.0,>=0.16.4->tokenizers>=0.13.2->chromadb) (3.19.1)\n",
            "Requirement already satisfied: fsspec>=2023.5.0 in /usr/local/lib/python3.12/dist-packages (from huggingface-hub<1.0,>=0.16.4->tokenizers>=0.13.2->chromadb) (2025.3.0)\n",
            "Requirement already satisfied: hf-xet<2.0.0,>=1.1.3 in /usr/local/lib/python3.12/dist-packages (from huggingface-hub<1.0,>=0.16.4->tokenizers>=0.13.2->chromadb) (1.1.10)\n",
            "Requirement already satisfied: zipp>=3.20 in /usr/local/lib/python3.12/dist-packages (from importlib-metadata<8.8.0,>=6.0->opentelemetry-api>=1.2.0->chromadb) (3.23.0)\n",
            "Requirement already satisfied: mdurl~=0.1 in /usr/local/lib/python3.12/dist-packages (from markdown-it-py>=2.2.0->rich>=10.11.0->chromadb) (0.1.2)\n",
            "Requirement already satisfied: charset_normalizer<4,>=2 in /usr/local/lib/python3.12/dist-packages (from requests->kubernetes>=28.1.0->chromadb) (3.4.3)\n",
            "Requirement already satisfied: sniffio>=1.1 in /usr/local/lib/python3.12/dist-packages (from anyio->httpx>=0.27.0->chromadb) (1.3.1)\n",
            "Requirement already satisfied: humanfriendly>=9.1 in /usr/local/lib/python3.12/dist-packages (from coloredlogs->onnxruntime>=1.14.1->chromadb) (10.0)\n",
            "Requirement already satisfied: mpmath<1.4,>=1.1.0 in /usr/local/lib/python3.12/dist-packages (from sympy->onnxruntime>=1.14.1->chromadb) (1.3.0)\n",
            "Requirement already satisfied: pyasn1<0.7.0,>=0.6.1 in /usr/local/lib/python3.12/dist-packages (from pyasn1-modules>=0.2.1->google-auth>=1.0.1->kubernetes>=28.1.0->chromadb) (0.6.1)\n"
          ]
        }
      ],
      "source": [
        "!pip install chromadb"
      ]
    },
    {
      "cell_type": "code",
      "execution_count": 90,
      "metadata": {
        "id": "o9p5fOmtcl-r"
      },
      "outputs": [],
      "source": [
        "#Step-5: Divide text into Embeddings and store in vector database\n",
        "\n",
        "# ------------------ EMBEDDINGS + VECTORSTORE ------------------\n",
        "from langchain.embeddings import HuggingFaceEmbeddings\n",
        "from langchain.vectorstores import Chroma\n",
        "embeddings = HuggingFaceEmbeddings(model_name=\"all-MiniLM-L6-v2\")\n",
        "\n",
        "vectordb = Chroma.from_documents(\n",
        "    documents=docs,\n",
        "    embedding=embeddings,\n",
        ")\n",
        "vectordb.persist()\n",
        "\n",
        "retriever = vectordb.as_retriever(search_kwargs={\"k\": 10})  # 4 top chunks#"
      ]
    },
    {
      "cell_type": "code",
      "source": [],
      "metadata": {
        "id": "WWH6iDx8_jE_"
      },
      "execution_count": 90,
      "outputs": []
    },
    {
      "cell_type": "code",
      "execution_count": 91,
      "metadata": {
        "colab": {
          "base_uri": "https://localhost:8080/",
          "height": 174
        },
        "id": "0Sr8e5nmcmBA",
        "outputId": "07670c66-8130-427d-be3b-df42bfab0ec1"
      },
      "outputs": [
        {
          "output_type": "execute_result",
          "data": {
            "text/plain": [
              "' #Step-6: Develop a Prompt-------------static instructions\\n\\n# ------------------ CUSTOM PROMPT ------------------\\nsystem_prompt = \"\"\"\\nYou are Jolly, a highly skilled and experienced **Data Scientist**.\\nYour role is to **clearly, accurately, and professionally** explain data science concepts, tools, workflows, and project-related details\\nto students, colleagues, or recruiters.\\n\\n## Core Guidelines:\\n1. **Context-First Approach**\\n   - Use **only** the information from the provided CONTEXT chunks from the retriever.\\n   - If the CONTEXT does not contain relevant details, **politely state that the information is unavailable** instead of making assumptions.\\n\\n2. **Clarity & Structure**\\n   - Provide explanations in a **clear, step-by-step manner**.\\n   - Use concise **bullet points**, **tables**, or **code snippets** where appropriate.\\n   - Summarize key takeaways at the end when needed.\\n\\n3. **Technical Depth**\\n   - Explain concepts like **data preprocessing, feature engineering, EDA, model building, model evaluation, feature selection, dimensionality reduction (PCA, LDA), model deployment, and performance optimization** with technical depth.\\n   - Include **relevant Python libraries, commands, and coding approaches** where helpful.\\n   - If multiple techniques exist, **compare them politely** and guide on the **best approach**.\\n\\n4. **Real-World Relevance**\\n   - When projects, datasets, or business problems are mentioned, explain them in a **real-world context**.\\n   - Use practical examples and relate them to **industry best practices**.\\n\\n5. **Accuracy & Referencing**\\n   - Always verify responses using the **retrieved CONTEXT**.\\n   - When citing specific details, politely mention the **chunk/page metadata**.\\n\\n6. **Tone & Professionalism**\\n   - Maintain a **helpful, polite, and professional** tone.\\n   - Avoid unnecessary storytelling unless explicitly requested.\\n   - Never fabricate information beyond the available CONTEXT.\\n\\n## Golden Rule:\\n> “If it’s **not in the provided CONTEXT**, do **not** assume or hallucinate.\\n> Instead, respond with:\\n> *‘The requested information is not available in the provided context.’*”\\n\"\"\"\\n     '"
            ],
            "application/vnd.google.colaboratory.intrinsic+json": {
              "type": "string"
            }
          },
          "metadata": {},
          "execution_count": 91
        }
      ],
      "source": [
        "''' #Step-6: Develop a Prompt-------------static instructions\n",
        "\n",
        "# ------------------ CUSTOM PROMPT ------------------\n",
        "system_prompt = \"\"\"\n",
        "You are Jolly, a highly skilled and experienced **Data Scientist**.\n",
        "Your role is to **clearly, accurately, and professionally** explain data science concepts, tools, workflows, and project-related details\n",
        "to students, colleagues, or recruiters.\n",
        "\n",
        "## Core Guidelines:\n",
        "1. **Context-First Approach**\n",
        "   - Use **only** the information from the provided CONTEXT chunks from the retriever.\n",
        "   - If the CONTEXT does not contain relevant details, **politely state that the information is unavailable** instead of making assumptions.\n",
        "\n",
        "2. **Clarity & Structure**\n",
        "   - Provide explanations in a **clear, step-by-step manner**.\n",
        "   - Use concise **bullet points**, **tables**, or **code snippets** where appropriate.\n",
        "   - Summarize key takeaways at the end when needed.\n",
        "\n",
        "3. **Technical Depth**\n",
        "   - Explain concepts like **data preprocessing, feature engineering, EDA, model building, model evaluation, feature selection, dimensionality reduction (PCA, LDA), model deployment, and performance optimization** with technical depth.\n",
        "   - Include **relevant Python libraries, commands, and coding approaches** where helpful.\n",
        "   - If multiple techniques exist, **compare them politely** and guide on the **best approach**.\n",
        "\n",
        "4. **Real-World Relevance**\n",
        "   - When projects, datasets, or business problems are mentioned, explain them in a **real-world context**.\n",
        "   - Use practical examples and relate them to **industry best practices**.\n",
        "\n",
        "5. **Accuracy & Referencing**\n",
        "   - Always verify responses using the **retrieved CONTEXT**.\n",
        "   - When citing specific details, politely mention the **chunk/page metadata**.\n",
        "\n",
        "6. **Tone & Professionalism**\n",
        "   - Maintain a **helpful, polite, and professional** tone.\n",
        "   - Avoid unnecessary storytelling unless explicitly requested.\n",
        "   - Never fabricate information beyond the available CONTEXT.\n",
        "\n",
        "## Golden Rule:\n",
        "> “If it’s **not in the provided CONTEXT**, do **not** assume or hallucinate.\n",
        "> Instead, respond with:\n",
        "> *‘The requested information is not available in the provided context.’*”\n",
        "\"\"\"\n",
        "     '''\n",
        "\n",
        "\n"
      ]
    },
    {
      "cell_type": "code",
      "source": [
        "system_prompt = \"\"\"\n",
        "You are Jolly, a professional assistant.\n",
        "- Always use ONLY the information from the provided context.\n",
        "- Adapt your role depending on the document type:\n",
        "  * If the context is about data science → explain as a Data Scientist.\n",
        "  * If the context is about nutrition → explain as a Nutrition Expert.\n",
        "- If context is missing, say: \"The requested information is not available in the provided context.\"\n",
        "\"\"\""
      ],
      "metadata": {
        "id": "2pfabL9V_qpl"
      },
      "execution_count": 92,
      "outputs": []
    },
    {
      "cell_type": "code",
      "execution_count": 93,
      "metadata": {
        "colab": {
          "base_uri": "https://localhost:8080/",
          "height": 70
        },
        "id": "Dj3enSEAcmDd",
        "outputId": "2f860d8e-1bdf-4de1-e0b5-fc38dcf0fc22"
      },
      "outputs": [
        {
          "output_type": "execute_result",
          "data": {
            "text/plain": [
              "'\"A PromptTemplate is a dynamic prompt where we inject variables like {context} and {question}.\\nIt uses the instructions from the system prompt but also includes real-time data. It’s used when combining retrieved chunks (from a retriever or database) with the user’s query\\n{context} = retrieved document chunks\\n{question} = user’s input\\n'"
            ],
            "application/vnd.google.colaboratory.intrinsic+json": {
              "type": "string"
            }
          },
          "metadata": {},
          "execution_count": 93
        }
      ],
      "source": [
        "#Step-7: Create a PromptTemplate\n",
        "\n",
        "from langchain.prompts import ChatPromptTemplate\n",
        "\n",
        "prompt_template = ChatPromptTemplate.from_messages([\n",
        "    (\"system\", system_prompt),\n",
        "    (\"human\", \"Context:\\n{context}\\n\\nQuestion:\\n{question}\")\n",
        "])\n",
        "\n",
        "\"\"\"\"A PromptTemplate is a dynamic prompt where we inject variables like {context} and {question}.\n",
        "It uses the instructions from the system prompt but also includes real-time data. It’s used when combining retrieved chunks (from a retriever or database) with the user’s query\n",
        "{context} = retrieved document chunks\n",
        "{question} = user’s input\n",
        "\"\"\"\n",
        "\n",
        "#User asks a question: \"What is photosynthesis?\" → goes into {question}.\n",
        "#Your retriever or search system finds relevant documents or text chunks about photosynthesis → goes into {context}.\n",
        "#The model sees both and generates an answer using the retrieved contex'''"
      ]
    },
    {
      "cell_type": "code",
      "source": [
        "system_prompt = \"\"\"\n",
        "You are Jolly, a professional assistant.\n",
        "- Always use ONLY the information from the provided context.\n",
        "- Adapt your role depending on the document type:\n",
        "  * If the context is about data science → explain as a Data Scientist.\n",
        "  * If the context is about nutrition → explain as a Nutrition Expert.\n",
        "- If context is missing, say: \"The requested information is not available in the provided context.\"\n",
        "\"\"\""
      ],
      "metadata": {
        "id": "DliWcbiS_mFm"
      },
      "execution_count": 94,
      "outputs": []
    },
    {
      "cell_type": "code",
      "execution_count": 95,
      "metadata": {
        "colab": {
          "base_uri": "https://localhost:8080/",
          "height": 70
        },
        "id": "mzyuLOoll-ox",
        "outputId": "ce9ff9cd-301a-4927-e7a1-963fbab05be1"
      },
      "outputs": [
        {
          "output_type": "execute_result",
          "data": {
            "text/plain": [
              "'from langchain.prompts import PromptTemplate\\n\\nprompt_template = PromptTemplate(\\n    template= system_prompt + \"\"\"\\n\\nCONTEXT:\\n{context}\\n\\nQUESTION:\\n{question}\\n\\nAnswer as Jolly, the Data Scientist.\\n\"\"\",\\n    input_variables=[\"context\", \"question\"]\\n)\\n'"
            ],
            "application/vnd.google.colaboratory.intrinsic+json": {
              "type": "string"
            }
          },
          "metadata": {},
          "execution_count": 95
        }
      ],
      "source": [
        "'''from langchain.prompts import PromptTemplate\n",
        "\n",
        "prompt_template = PromptTemplate(\n",
        "    template= system_prompt + \"\"\"\n",
        "\n",
        "CONTEXT:\n",
        "{context}\n",
        "\n",
        "QUESTION:\n",
        "{question}\n",
        "\n",
        "Answer as Jolly, the Data Scientist.\n",
        "\"\"\",\n",
        "    input_variables=[\"context\", \"question\"]\n",
        ")\n",
        "'''"
      ]
    },
    {
      "cell_type": "markdown",
      "metadata": {
        "id": "xmKbG_JTjQSY"
      },
      "source": []
    },
    {
      "cell_type": "code",
      "execution_count": 96,
      "metadata": {
        "id": "-UVnnrI8cmF8"
      },
      "outputs": [],
      "source": [
        "#Step-8: Build Retrieval QA\n",
        "\n",
        "from langchain.chains import RetrievalQA\n",
        "retrieval_qa = RetrievalQA.from_chain_type(\n",
        "    llm=llm,\n",
        "    retriever=retriever,\n",
        "    chain_type=\"stuff\",\n",
        "    chain_type_kwargs={\"prompt\": prompt_template}\n",
        ")"
      ]
    },
    {
      "cell_type": "code",
      "execution_count": 97,
      "metadata": {
        "colab": {
          "base_uri": "https://localhost:8080/"
        },
        "id": "sWkTTpavcmIy",
        "outputId": "0ad64b91-dadb-4c93-d0d0-414b59889955"
      },
      "outputs": [
        {
          "output_type": "stream",
          "name": "stdout",
          "text": [
            "\n",
            "--- Model Answer ---\n",
            "\n",
            "As a Nutrition Expert, I can provide you with general health data to help with weight loss based on the provided context. \n",
            "\n",
            "To lose weight, it's essential to maintain a balanced diet with the right amount of nutrients. Here are some key points to consider:\n",
            "\n",
            "1. **Fat intake**: Fat provides substances needed for growth and healthy skin. It's recommended to get 20% of your daily energy/calorie intake from fats/oils. Choose healthy options like omega-3-rich foods (fish, walnuts, seed oils) and limit saturated fats (butter, ghee, hydrogenated fats).\n",
            "\n",
            "2. **Carbohydrate intake**: Carbohydrates are the main energy source for the human brain. Focus on complex carbohydrates (fruits, vegetables, whole grain cereals, millets, pulses, and legumes) which are rich in dietary fiber. Avoid simple carbohydrates high in calories and low in nutritional value, often found in junk foods.\n",
            "\n",
            "3. **Dietary fiber**: Include foods high in dietary fiber (whole grain cereals, pulses, bran, green leafy vegetables, fruits, vegetables with edible seeds and skin, nuts, and oilseeds) as they aid in digestion, increase gastric motility, and may reduce the risk of diseases like heart disease, diabetes, and obesity.\n",
            "\n",
            "4. **Food comparison**: Looking at the provided food items (Chapatti, Ghee, Milk), Milk (3% fat) seems to provide the most balanced nutrients per serving, with a good amount of energy, carbohydrates, fat, and protein.\n",
            "\n",
            "5. **General guidelines**: \n",
            "   - Not more than 10% of total calories should come from saturated fats.\n",
            "   - At least 10% of total calories should come from Polyunsaturated Fatty Acids (PUFA).\n",
            "\n",
            "Remember, a successful weight loss plan should be tailored to an individual's specific needs, considering their overall health, lifestyle, and preferences. It's always best to consult with a healthcare professional or a registered dietitian for personalized advice.\n"
          ]
        }
      ],
      "source": [
        "#Step-9: Ask the Question\n",
        "\n",
        "query = \"Provide me Health Data to loose weight \"\n",
        "response = retrieval_qa.run(query)\n",
        "\n",
        "print(\"\\n--- Model Answer ---\\n\")\n",
        "print(response)"
      ]
    },
    {
      "cell_type": "code",
      "execution_count": 98,
      "metadata": {
        "id": "lDyrLrGqcmLe"
      },
      "outputs": [],
      "source": [
        "#Its giving information only from document this is Standard RAG appraoch\n",
        "#If we connect any API calls then fetch the data this indicates agentic Behaviour"
      ]
    },
    {
      "cell_type": "code",
      "execution_count": 99,
      "metadata": {
        "id": "TXz9QnaacmO0"
      },
      "outputs": [],
      "source": [
        "#Agentic RAG"
      ]
    },
    {
      "cell_type": "code",
      "execution_count": 100,
      "metadata": {
        "colab": {
          "base_uri": "https://localhost:8080/"
        },
        "id": "QNsBevyJcmR3",
        "outputId": "025df5b3-71af-4aad-9f71-5e8789406cc9"
      },
      "outputs": [
        {
          "output_type": "stream",
          "name": "stdout",
          "text": [
            "\n",
            "\n",
            " \n",
            "\n",
            "Top 10\n"
          ]
        }
      ],
      "source": [
        "#Step-10: Fetch the data from url\n",
        "'''Why Use a WebLoader Instead of Requests + BeautifulSoup\n",
        "Your current code works fine but scrapes only table data manually\n",
        "Using LangChain loaders, we can:\n",
        "Fetch the entire HTML or clean text\n",
        "Integrate directly into RAG pipelines\n",
        "Chunk, embed, and retrieve relevant pieces automatically'''\n",
        "\n",
        "from langchain_community.document_loaders import WebBaseLoader\n",
        "\n",
        "# URL to scrape\n",
        "url = \"https://crucible.io/insights/design/10-best-healthcare-websites-2024//\"\n",
        "\n",
        "# Initialize the loader\n",
        "loader = WebBaseLoader(url)\n",
        "\n",
        "# Load the content\n",
        "docs = loader.load()\n",
        "\n",
        "# Check the first document\n",
        "print(docs[0].page_content[:11])  # Preview first 10 characters"
      ]
    },
    {
      "cell_type": "code",
      "execution_count": 101,
      "metadata": {
        "id": "rc0CBweeyqUJ"
      },
      "outputs": [],
      "source": [
        "#!pip install langchain unstructured\n",
        "#!pip install \"unstructured[all-docs]\"\n",
        "#!pip install pdf2image pypdf pillow"
      ]
    },
    {
      "cell_type": "code",
      "execution_count": 102,
      "metadata": {
        "id": "v_OS1STH0iw7"
      },
      "outputs": [],
      "source": [
        "#from langchain.document_loaders import UnstructuredURLLoader"
      ]
    },
    {
      "cell_type": "code",
      "execution_count": 103,
      "metadata": {
        "id": "NmwcUrJl0m6c"
      },
      "outputs": [],
      "source": [
        "#from langchain_community.document_loaders import UnstructuredURLLoader\n"
      ]
    },
    {
      "cell_type": "code",
      "execution_count": 104,
      "metadata": {
        "id": "-_r1nxnI0lyX"
      },
      "outputs": [],
      "source": [
        "#url = \"https://crucible.io/insights/design/10-best-healthcare-websites-2024//\"\n",
        "#loader = UnstructuredURLLoader(urls=[url])\n",
        "#docs = loader.load()\n",
        "\n",
        "# Check the first document\n",
        "#print(docs[0].page_content[:11])  # Preview first 10 characters"
      ]
    },
    {
      "cell_type": "code",
      "execution_count": 105,
      "metadata": {
        "colab": {
          "base_uri": "https://localhost:8080/"
        },
        "id": "wI70ZgMW4bhV",
        "outputId": "0f969e1c-e41e-4e09-f5f4-9770b9ed5d06"
      },
      "outputs": [
        {
          "output_type": "stream",
          "name": "stdout",
          "text": [
            "Requirement already satisfied: faiss-cpu in /usr/local/lib/python3.12/dist-packages (1.12.0)\n",
            "Requirement already satisfied: numpy<3.0,>=1.25.0 in /usr/local/lib/python3.12/dist-packages (from faiss-cpu) (2.0.2)\n",
            "Requirement already satisfied: packaging in /usr/local/lib/python3.12/dist-packages (from faiss-cpu) (25.0)\n"
          ]
        }
      ],
      "source": [
        "!pip install faiss-cpu"
      ]
    },
    {
      "cell_type": "code",
      "execution_count": 106,
      "metadata": {
        "colab": {
          "base_uri": "https://localhost:8080/"
        },
        "id": "jJgfYvJEtcLw",
        "outputId": "d11b8df8-b247-42b6-d457-8f3c0ede88f7"
      },
      "outputs": [
        {
          "output_type": "stream",
          "name": "stderr",
          "text": [
            "/tmp/ipython-input-2234661027.py:5: LangChainDeprecationWarning: Default values for HuggingFaceEmbeddings.model_name were deprecated in LangChain 0.2.16 and will be removed in 0.4.0. Explicitly pass a model_name to the HuggingFaceEmbeddings constructor instead.\n",
            "  embeddings = HuggingFaceEmbeddings()\n"
          ]
        }
      ],
      "source": [
        "from langchain.vectorstores import FAISS\n",
        "from langchain.embeddings import HuggingFaceEmbeddings\n",
        "\n",
        "# Step 2a: Create embeddings\n",
        "embeddings = HuggingFaceEmbeddings()\n",
        "\n",
        "# Step 2b: Build FAISS vector store\n",
        "vector_store = FAISS.from_documents(docs, embeddings)\n",
        "\n",
        "# Step 2c: Create a retriever\n",
        "retriever = vector_store.as_retriever(search_type=\"similarity\", search_kwargs={\"k\": 5})\n"
      ]
    },
    {
      "cell_type": "code",
      "execution_count": 107,
      "metadata": {
        "id": "zfi_UinFtcQt"
      },
      "outputs": [],
      "source": [
        "from langchain_groq import ChatGroq\n",
        "\n",
        "#llm = ChatGroq(\n",
        "  #  model=\"llama-3.3-70b-versatile\",\n",
        "  #  temperature=0,\n",
        "  #  api_key=\"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\"\n",
        "#)\n",
        "\n",
        "llm = ChatGroq(\n",
        "    api_key=groq_api,\n",
        "    model=\"llama-3.3-70b-versatile\",\n",
        "    temperature=0.7,\n",
        "    max_tokens=512\n",
        ")\n",
        "\n"
      ]
    },
    {
      "cell_type": "code",
      "execution_count": 108,
      "metadata": {
        "id": "Z0jmNuC2tcUj"
      },
      "outputs": [],
      "source": [
        "from langchain.chains import RetrievalQA\n",
        "\n",
        "retrieval_qa = RetrievalQA.from_chain_type(\n",
        "    llm=llm,\n",
        "    retriever=retriever,\n",
        "    chain_type=\"stuff\"  # or \"map_reduce\" if the page is very long\n",
        ")\n"
      ]
    },
    {
      "cell_type": "code",
      "execution_count": 109,
      "metadata": {
        "id": "crWMg4YltcYs"
      },
      "outputs": [],
      "source": [
        "from langchain.agents import Tool\n",
        "\n",
        "web_tool = Tool(\n",
        "    name=\"Healthcare Websites Info\",\n",
        "    func=retrieval_qa.run,  # The function the agent calls\n",
        "    description=\"Use this tool to answer questions about healthcare website designs from the Crucible article.\"\n",
        ")\n"
      ]
    },
    {
      "cell_type": "code",
      "execution_count": 110,
      "metadata": {
        "id": "RGcM_BCytccS"
      },
      "outputs": [],
      "source": [
        "from langchain.agents import initialize_agent, AgentType\n",
        "\n",
        "agent = initialize_agent(\n",
        "    tools=[web_tool],\n",
        "    llm=llm,\n",
        "    agent=AgentType.ZERO_SHOT_REACT_DESCRIPTION,\n",
        "    verbose=True\n",
        ")\n"
      ]
    },
    {
      "cell_type": "code",
      "execution_count": 111,
      "metadata": {
        "colab": {
          "base_uri": "https://localhost:8080/"
        },
        "id": "aLh8Ecomtcg1",
        "outputId": "f66c435e-9b16-45f5-f970-169c43588084"
      },
      "outputs": [
        {
          "output_type": "stream",
          "name": "stdout",
          "text": [
            "\n",
            "\n",
            "\u001b[1m> Entering new AgentExecutor chain...\u001b[0m\n",
            "\u001b[32;1m\u001b[1;3mTo find the best healthcare websites for 2024, I should first look for information on healthcare websites from a reliable source, such as the Crucible article.\n",
            "\n",
            "Action: Healthcare Websites Info\n",
            "Action Input: tags=[\"best healthcare websites\", \"2024\"]\u001b[0m\n",
            "Observation: \u001b[36;1m\u001b[1;3mBased on the provided context, here are the top 10 best healthcare websites in 2024:\n",
            "\n",
            "1. Mayo Clinic\n",
            "2. Barts Health\n",
            "3. CRGH (Centre for Reproductive and Genetic Health)\n",
            "4. Hertility\n",
            "5. Campaign Against Living Miserably (CALM)\n",
            "6. WebMD\n",
            "7. Unmind\n",
            "8. Abortion Finder\n",
            "9. Thanks Ben\n",
            "10. Breastcancer.org\n",
            "\n",
            "These websites were evaluated based on categories such as overall performance, user experience, accessibility, content, identity, and security & privacy.\u001b[0m\n",
            "Thought:\u001b[32;1m\u001b[1;3mThought: I now know the final answer\n",
            "\n",
            "Final Answer: The best healthcare websites for 2024 are:\n",
            "1. Mayo Clinic\n",
            "2. Barts Health\n",
            "3. CRGH (Centre for Reproductive and Genetic Health)\n",
            "4. Hertility\n",
            "5. Campaign Against Living Miserably (CALM)\n",
            "6. WebMD\n",
            "7. Unmind\n",
            "8. Abortion Finder\n",
            "9. Thanks Ben\n",
            "10. Breastcancer.org\u001b[0m\n",
            "\n",
            "\u001b[1m> Finished chain.\u001b[0m\n",
            "The best healthcare websites for 2024 are:\n",
            "1. Mayo Clinic\n",
            "2. Barts Health\n",
            "3. CRGH (Centre for Reproductive and Genetic Health)\n",
            "4. Hertility\n",
            "5. Campaign Against Living Miserably (CALM)\n",
            "6. WebMD\n",
            "7. Unmind\n",
            "8. Abortion Finder\n",
            "9. Thanks Ben\n",
            "10. Breastcancer.org\n"
          ]
        }
      ],
      "source": [
        "query = \"Which websites are listed as best healthcare websites for 2024?\"\n",
        "response = agent.run(query)\n",
        "print(response)\n"
      ]
    },
    {
      "cell_type": "code",
      "execution_count": 111,
      "metadata": {
        "id": "QV7DTx3ntclA"
      },
      "outputs": [],
      "source": []
    },
    {
      "cell_type": "code",
      "execution_count": 111,
      "metadata": {
        "id": "7Mr7oLgztcoa"
      },
      "outputs": [],
      "source": []
    },
    {
      "cell_type": "code",
      "execution_count": 111,
      "metadata": {
        "id": "X6NhOYW5tcsL"
      },
      "outputs": [],
      "source": []
    },
    {
      "cell_type": "code",
      "execution_count": 111,
      "metadata": {
        "id": "wmE02VZXtcwV"
      },
      "outputs": [],
      "source": []
    },
    {
      "cell_type": "code",
      "execution_count": 111,
      "metadata": {
        "id": "kPyro4Ixtc02"
      },
      "outputs": [],
      "source": []
    },
    {
      "cell_type": "code",
      "execution_count": 111,
      "metadata": {
        "id": "dqzU6XLdtc3r"
      },
      "outputs": [],
      "source": []
    },
    {
      "cell_type": "code",
      "execution_count": 111,
      "metadata": {
        "id": "--hh3cvJtc66"
      },
      "outputs": [],
      "source": []
    },
    {
      "cell_type": "code",
      "execution_count": 111,
      "metadata": {
        "id": "ZLG_1gSRtc-P"
      },
      "outputs": [],
      "source": []
    },
    {
      "cell_type": "code",
      "execution_count": 111,
      "metadata": {
        "id": "boYoMWMgtdB7"
      },
      "outputs": [],
      "source": []
    }
  ],
  "metadata": {
    "colab": {
      "provenance": []
    },
    "kernelspec": {
      "display_name": "Python 3",
      "name": "python3"
    },
    "language_info": {
      "name": "python"
    }
  },
  "nbformat": 4,
  "nbformat_minor": 0
}